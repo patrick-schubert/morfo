{
 "cells": [
  {
   "cell_type": "code",
   "execution_count": 1,
   "metadata": {},
   "outputs": [],
   "source": [
    "import numpy as np\n",
    "import pandas as pd\n",
    "import os\n",
    "import matplotlib.pyplot as plt\n"
   ]
  },
  {
   "cell_type": "markdown",
   "metadata": {},
   "source": [
    "<h1>Formating Data</h1>"
   ]
  },
  {
   "cell_type": "code",
   "execution_count": 235,
   "metadata": {},
   "outputs": [],
   "source": [
    "df = pd.read_csv(\"Patrick_training_validation_set.csv\")"
   ]
  },
  {
   "cell_type": "code",
   "execution_count": 236,
   "metadata": {},
   "outputs": [
    {
     "data": {
      "text/html": [
       "<div>\n",
       "<style scoped>\n",
       "    .dataframe tbody tr th:only-of-type {\n",
       "        vertical-align: middle;\n",
       "    }\n",
       "\n",
       "    .dataframe tbody tr th {\n",
       "        vertical-align: top;\n",
       "    }\n",
       "\n",
       "    .dataframe thead th {\n",
       "        text-align: right;\n",
       "    }\n",
       "</style>\n",
       "<table border=\"1\" class=\"dataframe\">\n",
       "  <thead>\n",
       "    <tr style=\"text-align: right;\">\n",
       "      <th></th>\n",
       "      <th>dr7objid_1</th>\n",
       "      <th>simple_class</th>\n",
       "      <th>P_S0</th>\n",
       "      <th>P_edge_on</th>\n",
       "      <th>P_bar_Nair10</th>\n",
       "      <th>P_merg</th>\n",
       "      <th>P_bulge</th>\n",
       "      <th>ID</th>\n",
       "      <th>RA_1</th>\n",
       "      <th>Dec_1</th>\n",
       "      <th>PhotoFlag</th>\n",
       "      <th>FWHM</th>\n",
       "      <th>r_petro</th>\n",
       "      <th>er_petro</th>\n",
       "    </tr>\n",
       "  </thead>\n",
       "  <tbody>\n",
       "    <tr>\n",
       "      <th>0</th>\n",
       "      <td>587730845812196092</td>\n",
       "      <td>S</td>\n",
       "      <td>0.980073</td>\n",
       "      <td>1.365571e-06</td>\n",
       "      <td>0.518699</td>\n",
       "      <td>0.497976</td>\n",
       "      <td>0.064086</td>\n",
       "      <td>SPLUS.STRIPE82-0101.10970.griz</td>\n",
       "      <td>309.6756</td>\n",
       "      <td>-1.2181</td>\n",
       "      <td>2</td>\n",
       "      <td>6.41</td>\n",
       "      <td>15.90</td>\n",
       "      <td>0.02</td>\n",
       "    </tr>\n",
       "    <tr>\n",
       "      <th>1</th>\n",
       "      <td>587730845812982517</td>\n",
       "      <td>SB</td>\n",
       "      <td>0.908754</td>\n",
       "      <td>1.386264e-07</td>\n",
       "      <td>0.447314</td>\n",
       "      <td>0.200284</td>\n",
       "      <td>0.951986</td>\n",
       "      <td>SPLUS.STRIPE82-0103.13920.griz</td>\n",
       "      <td>311.4581</td>\n",
       "      <td>-1.1644</td>\n",
       "      <td>2</td>\n",
       "      <td>5.56</td>\n",
       "      <td>16.16</td>\n",
       "      <td>0.02</td>\n",
       "    </tr>\n",
       "    <tr>\n",
       "      <th>2</th>\n",
       "      <td>587730845813243927</td>\n",
       "      <td>S</td>\n",
       "      <td>0.930493</td>\n",
       "      <td>3.341422e-04</td>\n",
       "      <td>0.736242</td>\n",
       "      <td>0.440820</td>\n",
       "      <td>0.031489</td>\n",
       "      <td>SPLUS.STRIPE82-0103.11466.griz</td>\n",
       "      <td>312.0403</td>\n",
       "      <td>-1.2119</td>\n",
       "      <td>2</td>\n",
       "      <td>3.79</td>\n",
       "      <td>15.52</td>\n",
       "      <td>0.02</td>\n",
       "    </tr>\n",
       "    <tr>\n",
       "      <th>3</th>\n",
       "      <td>587730845813244869</td>\n",
       "      <td>Er</td>\n",
       "      <td>0.114102</td>\n",
       "      <td>3.513018e-01</td>\n",
       "      <td>0.061133</td>\n",
       "      <td>0.053804</td>\n",
       "      <td>0.990206</td>\n",
       "      <td>SPLUS.STRIPE82-0103.15392.griz</td>\n",
       "      <td>312.1211</td>\n",
       "      <td>-1.1323</td>\n",
       "      <td>2</td>\n",
       "      <td>4.28</td>\n",
       "      <td>16.77</td>\n",
       "      <td>0.02</td>\n",
       "    </tr>\n",
       "    <tr>\n",
       "      <th>4</th>\n",
       "      <td>587730845813244944</td>\n",
       "      <td>S</td>\n",
       "      <td>0.988128</td>\n",
       "      <td>4.014963e-01</td>\n",
       "      <td>0.457791</td>\n",
       "      <td>0.330930</td>\n",
       "      <td>0.000824</td>\n",
       "      <td>SPLUS.STRIPE82-0103.10373.griz</td>\n",
       "      <td>312.1473</td>\n",
       "      <td>-1.2246</td>\n",
       "      <td>2</td>\n",
       "      <td>12.81</td>\n",
       "      <td>16.93</td>\n",
       "      <td>0.02</td>\n",
       "    </tr>\n",
       "  </tbody>\n",
       "</table>\n",
       "</div>"
      ],
      "text/plain": [
       "           dr7objid_1 simple_class      P_S0     P_edge_on  P_bar_Nair10  \\\n",
       "0  587730845812196092            S  0.980073  1.365571e-06      0.518699   \n",
       "1  587730845812982517           SB  0.908754  1.386264e-07      0.447314   \n",
       "2  587730845813243927            S  0.930493  3.341422e-04      0.736242   \n",
       "3  587730845813244869           Er  0.114102  3.513018e-01      0.061133   \n",
       "4  587730845813244944            S  0.988128  4.014963e-01      0.457791   \n",
       "\n",
       "     P_merg   P_bulge                              ID      RA_1   Dec_1  \\\n",
       "0  0.497976  0.064086  SPLUS.STRIPE82-0101.10970.griz  309.6756 -1.2181   \n",
       "1  0.200284  0.951986  SPLUS.STRIPE82-0103.13920.griz  311.4581 -1.1644   \n",
       "2  0.440820  0.031489  SPLUS.STRIPE82-0103.11466.griz  312.0403 -1.2119   \n",
       "3  0.053804  0.990206  SPLUS.STRIPE82-0103.15392.griz  312.1211 -1.1323   \n",
       "4  0.330930  0.000824  SPLUS.STRIPE82-0103.10373.griz  312.1473 -1.2246   \n",
       "\n",
       "   PhotoFlag   FWHM  r_petro  er_petro  \n",
       "0          2   6.41    15.90      0.02  \n",
       "1          2   5.56    16.16      0.02  \n",
       "2          2   3.79    15.52      0.02  \n",
       "3          2   4.28    16.77      0.02  \n",
       "4          2  12.81    16.93      0.02  "
      ]
     },
     "execution_count": 236,
     "metadata": {},
     "output_type": "execute_result"
    }
   ],
   "source": [
    "df.head(5)"
   ]
  },
  {
   "cell_type": "code",
   "execution_count": 237,
   "metadata": {},
   "outputs": [
    {
     "data": {
      "text/html": [
       "<div>\n",
       "<style scoped>\n",
       "    .dataframe tbody tr th:only-of-type {\n",
       "        vertical-align: middle;\n",
       "    }\n",
       "\n",
       "    .dataframe tbody tr th {\n",
       "        vertical-align: top;\n",
       "    }\n",
       "\n",
       "    .dataframe thead th {\n",
       "        text-align: right;\n",
       "    }\n",
       "</style>\n",
       "<table border=\"1\" class=\"dataframe\">\n",
       "  <thead>\n",
       "    <tr style=\"text-align: right;\">\n",
       "      <th></th>\n",
       "      <th>dr7objid_1</th>\n",
       "      <th>P_S0</th>\n",
       "      <th>P_edge_on</th>\n",
       "      <th>P_bar_Nair10</th>\n",
       "      <th>P_merg</th>\n",
       "      <th>P_bulge</th>\n",
       "      <th>RA_1</th>\n",
       "      <th>Dec_1</th>\n",
       "      <th>PhotoFlag</th>\n",
       "      <th>FWHM</th>\n",
       "      <th>r_petro</th>\n",
       "      <th>er_petro</th>\n",
       "    </tr>\n",
       "  </thead>\n",
       "  <tbody>\n",
       "    <tr>\n",
       "      <th>count</th>\n",
       "      <td>8.161000e+03</td>\n",
       "      <td>8161.000000</td>\n",
       "      <td>8.161000e+03</td>\n",
       "      <td>8.161000e+03</td>\n",
       "      <td>8161.000000</td>\n",
       "      <td>8.161000e+03</td>\n",
       "      <td>8161.000000</td>\n",
       "      <td>8161.000000</td>\n",
       "      <td>8161.000000</td>\n",
       "      <td>8161.000000</td>\n",
       "      <td>8161.000000</td>\n",
       "      <td>8161.000000</td>\n",
       "    </tr>\n",
       "    <tr>\n",
       "      <th>mean</th>\n",
       "      <td>5.878282e+17</td>\n",
       "      <td>0.711384</td>\n",
       "      <td>2.158983e-01</td>\n",
       "      <td>2.646300e-01</td>\n",
       "      <td>0.246376</td>\n",
       "      <td>5.365112e-01</td>\n",
       "      <td>150.183975</td>\n",
       "      <td>-0.011222</td>\n",
       "      <td>1.330964</td>\n",
       "      <td>8.723980</td>\n",
       "      <td>16.225124</td>\n",
       "      <td>0.020191</td>\n",
       "    </tr>\n",
       "    <tr>\n",
       "      <th>std</th>\n",
       "      <td>1.345144e+14</td>\n",
       "      <td>0.309589</td>\n",
       "      <td>3.211881e-01</td>\n",
       "      <td>1.845875e-01</td>\n",
       "      <td>0.292179</td>\n",
       "      <td>4.050394e-01</td>\n",
       "      <td>152.842890</td>\n",
       "      <td>0.721830</td>\n",
       "      <td>1.384484</td>\n",
       "      <td>17.973339</td>\n",
       "      <td>0.781928</td>\n",
       "      <td>0.001653</td>\n",
       "    </tr>\n",
       "    <tr>\n",
       "      <th>min</th>\n",
       "      <td>5.877308e+17</td>\n",
       "      <td>0.032350</td>\n",
       "      <td>2.159374e-13</td>\n",
       "      <td>1.001660e-12</td>\n",
       "      <td>0.000464</td>\n",
       "      <td>7.363940e-08</td>\n",
       "      <td>0.006500</td>\n",
       "      <td>-1.229800</td>\n",
       "      <td>0.000000</td>\n",
       "      <td>2.470000</td>\n",
       "      <td>6.660000</td>\n",
       "      <td>0.020000</td>\n",
       "    </tr>\n",
       "    <tr>\n",
       "      <th>25%</th>\n",
       "      <td>5.877312e+17</td>\n",
       "      <td>0.479578</td>\n",
       "      <td>1.103321e-03</td>\n",
       "      <td>1.158367e-01</td>\n",
       "      <td>0.051848</td>\n",
       "      <td>5.994169e-02</td>\n",
       "      <td>19.098400</td>\n",
       "      <td>-0.640600</td>\n",
       "      <td>0.000000</td>\n",
       "      <td>4.290000</td>\n",
       "      <td>15.920000</td>\n",
       "      <td>0.020000</td>\n",
       "    </tr>\n",
       "    <tr>\n",
       "      <th>50%</th>\n",
       "      <td>5.877315e+17</td>\n",
       "      <td>0.857111</td>\n",
       "      <td>3.702521e-02</td>\n",
       "      <td>2.570614e-01</td>\n",
       "      <td>0.107971</td>\n",
       "      <td>6.448643e-01</td>\n",
       "      <td>44.288800</td>\n",
       "      <td>-0.028800</td>\n",
       "      <td>2.000000</td>\n",
       "      <td>5.600000</td>\n",
       "      <td>16.460000</td>\n",
       "      <td>0.020000</td>\n",
       "    </tr>\n",
       "    <tr>\n",
       "      <th>75%</th>\n",
       "      <td>5.880155e+17</td>\n",
       "      <td>0.971287</td>\n",
       "      <td>3.135478e-01</td>\n",
       "      <td>3.675140e-01</td>\n",
       "      <td>0.313953</td>\n",
       "      <td>9.501289e-01</td>\n",
       "      <td>329.369700</td>\n",
       "      <td>0.610200</td>\n",
       "      <td>2.000000</td>\n",
       "      <td>9.070000</td>\n",
       "      <td>16.770000</td>\n",
       "      <td>0.020000</td>\n",
       "    </tr>\n",
       "    <tr>\n",
       "      <th>max</th>\n",
       "      <td>5.880155e+17</td>\n",
       "      <td>0.999898</td>\n",
       "      <td>9.999996e-01</td>\n",
       "      <td>9.941334e-01</td>\n",
       "      <td>1.000000</td>\n",
       "      <td>1.000000e+00</td>\n",
       "      <td>359.988800</td>\n",
       "      <td>1.258700</td>\n",
       "      <td>19.000000</td>\n",
       "      <td>688.450000</td>\n",
       "      <td>16.990000</td>\n",
       "      <td>0.060000</td>\n",
       "    </tr>\n",
       "  </tbody>\n",
       "</table>\n",
       "</div>"
      ],
      "text/plain": [
       "         dr7objid_1         P_S0     P_edge_on  P_bar_Nair10       P_merg  \\\n",
       "count  8.161000e+03  8161.000000  8.161000e+03  8.161000e+03  8161.000000   \n",
       "mean   5.878282e+17     0.711384  2.158983e-01  2.646300e-01     0.246376   \n",
       "std    1.345144e+14     0.309589  3.211881e-01  1.845875e-01     0.292179   \n",
       "min    5.877308e+17     0.032350  2.159374e-13  1.001660e-12     0.000464   \n",
       "25%    5.877312e+17     0.479578  1.103321e-03  1.158367e-01     0.051848   \n",
       "50%    5.877315e+17     0.857111  3.702521e-02  2.570614e-01     0.107971   \n",
       "75%    5.880155e+17     0.971287  3.135478e-01  3.675140e-01     0.313953   \n",
       "max    5.880155e+17     0.999898  9.999996e-01  9.941334e-01     1.000000   \n",
       "\n",
       "            P_bulge         RA_1        Dec_1    PhotoFlag         FWHM  \\\n",
       "count  8.161000e+03  8161.000000  8161.000000  8161.000000  8161.000000   \n",
       "mean   5.365112e-01   150.183975    -0.011222     1.330964     8.723980   \n",
       "std    4.050394e-01   152.842890     0.721830     1.384484    17.973339   \n",
       "min    7.363940e-08     0.006500    -1.229800     0.000000     2.470000   \n",
       "25%    5.994169e-02    19.098400    -0.640600     0.000000     4.290000   \n",
       "50%    6.448643e-01    44.288800    -0.028800     2.000000     5.600000   \n",
       "75%    9.501289e-01   329.369700     0.610200     2.000000     9.070000   \n",
       "max    1.000000e+00   359.988800     1.258700    19.000000   688.450000   \n",
       "\n",
       "           r_petro     er_petro  \n",
       "count  8161.000000  8161.000000  \n",
       "mean     16.225124     0.020191  \n",
       "std       0.781928     0.001653  \n",
       "min       6.660000     0.020000  \n",
       "25%      15.920000     0.020000  \n",
       "50%      16.460000     0.020000  \n",
       "75%      16.770000     0.020000  \n",
       "max      16.990000     0.060000  "
      ]
     },
     "execution_count": 237,
     "metadata": {},
     "output_type": "execute_result"
    }
   ],
   "source": [
    "df.describe()"
   ]
  },
  {
   "cell_type": "code",
   "execution_count": 238,
   "metadata": {},
   "outputs": [
    {
     "data": {
      "text/plain": [
       "array(['S', 'SB', 'Er', 'Se', 'Ei', 'Ec', 'A'], dtype=object)"
      ]
     },
     "execution_count": 238,
     "metadata": {},
     "output_type": "execute_result"
    }
   ],
   "source": [
    "df[\"simple_class\"].unique()"
   ]
  },
  {
   "cell_type": "code",
   "execution_count": 239,
   "metadata": {},
   "outputs": [
    {
     "name": "stdout",
     "output_type": "stream",
     "text": [
      "(8161, 14)\n"
     ]
    },
    {
     "data": {
      "text/html": [
       "<div>\n",
       "<style scoped>\n",
       "    .dataframe tbody tr th:only-of-type {\n",
       "        vertical-align: middle;\n",
       "    }\n",
       "\n",
       "    .dataframe tbody tr th {\n",
       "        vertical-align: top;\n",
       "    }\n",
       "\n",
       "    .dataframe thead th {\n",
       "        text-align: right;\n",
       "    }\n",
       "</style>\n",
       "<table border=\"1\" class=\"dataframe\">\n",
       "  <thead>\n",
       "    <tr style=\"text-align: right;\">\n",
       "      <th></th>\n",
       "      <th>dr7objid_1</th>\n",
       "      <th>simple_class</th>\n",
       "      <th>P_S0</th>\n",
       "      <th>P_edge_on</th>\n",
       "      <th>P_bar_Nair10</th>\n",
       "      <th>P_merg</th>\n",
       "      <th>P_bulge</th>\n",
       "      <th>ID</th>\n",
       "      <th>RA_1</th>\n",
       "      <th>Dec_1</th>\n",
       "      <th>PhotoFlag</th>\n",
       "      <th>FWHM</th>\n",
       "      <th>r_petro</th>\n",
       "      <th>er_petro</th>\n",
       "    </tr>\n",
       "  </thead>\n",
       "  <tbody>\n",
       "    <tr>\n",
       "      <th>5446</th>\n",
       "      <td>588015507658768529</td>\n",
       "      <td>Ec</td>\n",
       "      <td>0.992788</td>\n",
       "      <td>0.991921</td>\n",
       "      <td>0.311965</td>\n",
       "      <td>0.418576</td>\n",
       "      <td>0.974106</td>\n",
       "      <td>SPLUS.STRIPE82-0001.03217.griz</td>\n",
       "      <td>359.9707</td>\n",
       "      <td>-1.2178</td>\n",
       "      <td>2</td>\n",
       "      <td>7.89</td>\n",
       "      <td>16.50</td>\n",
       "      <td>0.03</td>\n",
       "    </tr>\n",
       "    <tr>\n",
       "      <th>5448</th>\n",
       "      <td>588015507658833996</td>\n",
       "      <td>SB</td>\n",
       "      <td>0.610342</td>\n",
       "      <td>0.001808</td>\n",
       "      <td>0.414245</td>\n",
       "      <td>0.108942</td>\n",
       "      <td>0.757017</td>\n",
       "      <td>SPLUS.STRIPE82-0001.03462.griz</td>\n",
       "      <td>0.1286</td>\n",
       "      <td>-1.2130</td>\n",
       "      <td>3</td>\n",
       "      <td>4.75</td>\n",
       "      <td>15.80</td>\n",
       "      <td>0.02</td>\n",
       "    </tr>\n",
       "    <tr>\n",
       "      <th>5445</th>\n",
       "      <td>588015507658768490</td>\n",
       "      <td>SB</td>\n",
       "      <td>0.997540</td>\n",
       "      <td>0.001146</td>\n",
       "      <td>0.529711</td>\n",
       "      <td>0.999761</td>\n",
       "      <td>0.098503</td>\n",
       "      <td>SPLUS.STRIPE82-0001.03521.griz</td>\n",
       "      <td>0.0559</td>\n",
       "      <td>-1.2136</td>\n",
       "      <td>2</td>\n",
       "      <td>14.99</td>\n",
       "      <td>16.34</td>\n",
       "      <td>0.02</td>\n",
       "    </tr>\n",
       "    <tr>\n",
       "      <th>5450</th>\n",
       "      <td>588015507658834049</td>\n",
       "      <td>Er</td>\n",
       "      <td>0.592436</td>\n",
       "      <td>0.040049</td>\n",
       "      <td>0.234143</td>\n",
       "      <td>0.032117</td>\n",
       "      <td>0.937357</td>\n",
       "      <td>SPLUS.STRIPE82-0001.03897.griz</td>\n",
       "      <td>0.2156</td>\n",
       "      <td>-1.1983</td>\n",
       "      <td>2</td>\n",
       "      <td>4.79</td>\n",
       "      <td>16.77</td>\n",
       "      <td>0.02</td>\n",
       "    </tr>\n",
       "    <tr>\n",
       "      <th>5449</th>\n",
       "      <td>588015507658834026</td>\n",
       "      <td>Ei</td>\n",
       "      <td>0.997986</td>\n",
       "      <td>0.098651</td>\n",
       "      <td>0.188016</td>\n",
       "      <td>0.041046</td>\n",
       "      <td>0.062332</td>\n",
       "      <td>SPLUS.STRIPE82-0001.04092.griz</td>\n",
       "      <td>0.1664</td>\n",
       "      <td>-1.1912</td>\n",
       "      <td>0</td>\n",
       "      <td>7.85</td>\n",
       "      <td>16.88</td>\n",
       "      <td>0.02</td>\n",
       "    </tr>\n",
       "  </tbody>\n",
       "</table>\n",
       "</div>"
      ],
      "text/plain": [
       "              dr7objid_1 simple_class      P_S0  P_edge_on  P_bar_Nair10  \\\n",
       "5446  588015507658768529           Ec  0.992788   0.991921      0.311965   \n",
       "5448  588015507658833996           SB  0.610342   0.001808      0.414245   \n",
       "5445  588015507658768490           SB  0.997540   0.001146      0.529711   \n",
       "5450  588015507658834049           Er  0.592436   0.040049      0.234143   \n",
       "5449  588015507658834026           Ei  0.997986   0.098651      0.188016   \n",
       "\n",
       "        P_merg   P_bulge                              ID      RA_1   Dec_1  \\\n",
       "5446  0.418576  0.974106  SPLUS.STRIPE82-0001.03217.griz  359.9707 -1.2178   \n",
       "5448  0.108942  0.757017  SPLUS.STRIPE82-0001.03462.griz    0.1286 -1.2130   \n",
       "5445  0.999761  0.098503  SPLUS.STRIPE82-0001.03521.griz    0.0559 -1.2136   \n",
       "5450  0.032117  0.937357  SPLUS.STRIPE82-0001.03897.griz    0.2156 -1.1983   \n",
       "5449  0.041046  0.062332  SPLUS.STRIPE82-0001.04092.griz    0.1664 -1.1912   \n",
       "\n",
       "      PhotoFlag   FWHM  r_petro  er_petro  \n",
       "5446          2   7.89    16.50      0.03  \n",
       "5448          3   4.75    15.80      0.02  \n",
       "5445          2  14.99    16.34      0.02  \n",
       "5450          2   4.79    16.77      0.02  \n",
       "5449          0   7.85    16.88      0.02  "
      ]
     },
     "execution_count": 239,
     "metadata": {},
     "output_type": "execute_result"
    }
   ],
   "source": [
    "df = df.sort_values(\"ID\")\n",
    "print(df.shape)\n",
    "df.head(5)"
   ]
  },
  {
   "cell_type": "code",
   "execution_count": 240,
   "metadata": {},
   "outputs": [
    {
     "data": {
      "text/plain": [
       "(8157, 14)"
      ]
     },
     "execution_count": 240,
     "metadata": {},
     "output_type": "execute_result"
    }
   ],
   "source": [
    "df = df.drop(df[df[\"simple_class\"] == \"A\"].index, axis=0)\n",
    "df.shape"
   ]
  },
  {
   "cell_type": "code",
   "execution_count": 241,
   "metadata": {},
   "outputs": [
    {
     "data": {
      "text/plain": [
       "array(['Ec', 'SB', 'Er', 'Ei', 'S', 'Se'], dtype=object)"
      ]
     },
     "execution_count": 241,
     "metadata": {},
     "output_type": "execute_result"
    }
   ],
   "source": [
    "df[\"simple_class\"].unique()"
   ]
  },
  {
   "cell_type": "code",
   "execution_count": 250,
   "metadata": {},
   "outputs": [
    {
     "data": {
      "text/plain": [
       "array([[0.992788  , 0.9919212 , 0.3119653 , 0.41857558, 0.9741057 ,\n",
       "        0.        , 0.        ],\n",
       "       [0.61034167, 0.00180763, 0.4142451 , 0.10894234, 0.75701725,\n",
       "        0.        , 0.        ],\n",
       "       [0.99754   , 0.00114628, 0.52971137, 0.9997614 , 0.09850258,\n",
       "        0.        , 0.        ],\n",
       "       [0.59243613, 0.04004871, 0.23414291, 0.03211664, 0.9373572 ,\n",
       "        0.        , 0.        ],\n",
       "       [0.9979863 , 0.09865054, 0.18801607, 0.04104596, 0.06233165,\n",
       "        0.        , 0.        ]], dtype=float32)"
      ]
     },
     "execution_count": 250,
     "metadata": {},
     "output_type": "execute_result"
    }
   ],
   "source": [
    "classes = np.zeros((df.shape[0], 7), dtype=\"float32\")\n",
    "classes[:,:-2] = df[[\"P_S0\", \"P_edge_on\", \"P_bar_Nair10\", \"P_merg\", \"P_bulge\"]]\n",
    "classes[:5]"
   ]
  },
  {
   "cell_type": "code",
   "execution_count": 251,
   "metadata": {},
   "outputs": [],
   "source": [
    "for idx,classe in enumerate(df[\"simple_class\"]):\n",
    "    if \"E\" in classe:\n",
    "        classes[idx,-2] = 1.0\n",
    "    else:\n",
    "        classes[idx,-1] = 1.0\n"
   ]
  },
  {
   "cell_type": "code",
   "execution_count": null,
   "metadata": {},
   "outputs": [],
   "source": []
  },
  {
   "cell_type": "code",
   "execution_count": null,
   "metadata": {},
   "outputs": [],
   "source": [
    "#SPLUS.STRIPE82-0001.02039.griz_G.fits"
   ]
  },
  {
   "cell_type": "code",
   "execution_count": 19,
   "metadata": {},
   "outputs": [
    {
     "data": {
      "text/plain": [
       "'/home/patrick/P/Morfo'"
      ]
     },
     "execution_count": 19,
     "metadata": {},
     "output_type": "execute_result"
    }
   ],
   "source": [
    "#os.getcwd()"
   ]
  },
  {
   "cell_type": "code",
   "execution_count": 252,
   "metadata": {
    "collapsed": true,
    "jupyter": {
     "outputs_hidden": true
    }
   },
   "outputs": [
    {
     "name": "stdout",
     "output_type": "stream",
     "text": [
      "8100/8156 [============================>.] - ETA: 5s (8157, 320, 320, 12)\n"
     ]
    },
    {
     "ename": "NameError",
     "evalue": "name 'idx2keep' is not defined",
     "output_type": "error",
     "traceback": [
      "\u001b[0;31m---------------------------------------------------------------------------\u001b[0m",
      "\u001b[0;31mNameError\u001b[0m                                 Traceback (most recent call last)",
      "\u001b[0;32m<ipython-input-252-567825f8f7e3>\u001b[0m in \u001b[0;36m<module>\u001b[0;34m\u001b[0m\n\u001b[1;32m     60\u001b[0m     \u001b[0;34m\"\"\" Now save to numpy file \"\"\"\u001b[0m\u001b[0;34m\u001b[0m\u001b[0;34m\u001b[0m\u001b[0m\n\u001b[1;32m     61\u001b[0m     \u001b[0mprint\u001b[0m\u001b[0;34m(\u001b[0m\u001b[0mimages\u001b[0m\u001b[0;34m.\u001b[0m\u001b[0mshape\u001b[0m\u001b[0;34m)\u001b[0m\u001b[0;34m\u001b[0m\u001b[0;34m\u001b[0m\u001b[0m\n\u001b[0;32m---> 62\u001b[0;31m     \u001b[0mprint\u001b[0m\u001b[0;34m(\u001b[0m\u001b[0mclasses\u001b[0m\u001b[0;34m[\u001b[0m\u001b[0midx2keep\u001b[0m\u001b[0;34m]\u001b[0m\u001b[0;34m.\u001b[0m\u001b[0mshape\u001b[0m\u001b[0;34m)\u001b[0m\u001b[0;34m\u001b[0m\u001b[0;34m\u001b[0m\u001b[0m\n\u001b[0m\u001b[1;32m     63\u001b[0m     \u001b[0mnp\u001b[0m\u001b[0;34m.\u001b[0m\u001b[0msave\u001b[0m\u001b[0;34m(\u001b[0m\u001b[0mos\u001b[0m\u001b[0;34m.\u001b[0m\u001b[0mpath\u001b[0m\u001b[0;34m.\u001b[0m\u001b[0mjoin\u001b[0m\u001b[0;34m(\u001b[0m\u001b[0mos\u001b[0m\u001b[0;34m.\u001b[0m\u001b[0mgetcwd\u001b[0m\u001b[0;34m(\u001b[0m\u001b[0;34m)\u001b[0m\u001b[0;34m,\u001b[0m\u001b[0;34m'images.npy'\u001b[0m\u001b[0;34m)\u001b[0m\u001b[0;34m,\u001b[0m \u001b[0mimages\u001b[0m\u001b[0;34m)\u001b[0m\u001b[0;34m\u001b[0m\u001b[0;34m\u001b[0m\u001b[0m\n\u001b[1;32m     64\u001b[0m     \u001b[0mnp\u001b[0m\u001b[0;34m.\u001b[0m\u001b[0msave\u001b[0m\u001b[0;34m(\u001b[0m\u001b[0mos\u001b[0m\u001b[0;34m.\u001b[0m\u001b[0mpath\u001b[0m\u001b[0;34m.\u001b[0m\u001b[0mjoin\u001b[0m\u001b[0;34m(\u001b[0m\u001b[0mos\u001b[0m\u001b[0;34m.\u001b[0m\u001b[0mgetcwd\u001b[0m\u001b[0;34m(\u001b[0m\u001b[0;34m)\u001b[0m\u001b[0;34m,\u001b[0m\u001b[0;34m'idxs2keep.npy'\u001b[0m\u001b[0;34m)\u001b[0m\u001b[0;34m,\u001b[0m \u001b[0mnp\u001b[0m\u001b[0;34m.\u001b[0m\u001b[0marray\u001b[0m\u001b[0;34m(\u001b[0m\u001b[0midxs2keep\u001b[0m\u001b[0;34m)\u001b[0m\u001b[0;34m)\u001b[0m\u001b[0;34m\u001b[0m\u001b[0;34m\u001b[0m\u001b[0m\n",
      "\u001b[0;31mNameError\u001b[0m: name 'idx2keep' is not defined"
     ]
    }
   ],
   "source": [
    "#data_dir = '/home/dados229/cenpes/DataChallenge2/'\n",
    "#catalog_name = 'image_catalog2.0train_corrigido.csv'\n",
    "\n",
    "\"\"\" Load catalog before images \"\"\"\n",
    "#import pandas as pd \n",
    "#catalog = pd.read_csv(os.path.join(data_dir, catalog_name), header = 0) # 28 for old catalog\n",
    "\n",
    "\"\"\" Now load images using catalog's IDs \"\"\"\n",
    "#from skimage.transform import resize\n",
    "\n",
    "from keras.utils import Progbar\n",
    "from astropy.io import fits\n",
    "\n",
    "channels = ['F378','F395','F410','F430','F515','F660','F861','G','I','R','U','Z']\n",
    "nsamples = len(df['ID'])\n",
    "idxs2keep = []\n",
    "\n",
    "reload = False\n",
    "\n",
    "\"\"\" Try to load numpy file with images \"\"\"\n",
    "if os.path.isfile(os.path.join(os.getcwd(),'/images.npy')) and not reload:  \n",
    "    images = np.load(os.path.join(os.getcwd(),'/images.npy'))\n",
    "    idxs2keep = list(np.load(os.path.join(os.getcwd(),'/idxs2keep.npy')))\n",
    "else:\n",
    "    images = None\n",
    "    \"\"\" Loop thru indexes \"\"\"\n",
    "    pbar = Progbar(nsamples-1)\n",
    "    for iid,cid in enumerate(df['ID']): #enumerate(catalog['ID']):\n",
    "\n",
    "        \"\"\" Loop thru channels\"\"\"\n",
    "        for ich,ch in enumerate(channels):\n",
    "\n",
    "            \"\"\" Init image dir and name \"\"\"\n",
    "            image_file = os.path.join(os.getcwd(),\n",
    "                                      ch,\n",
    "                                      '{}_{}.fits'.format(cid,ch))\n",
    "\n",
    "            if os.path.isfile(image_file):\n",
    "\n",
    "                \"\"\" Import data with astropy \"\"\"\n",
    "                image_data = fits.getdata(image_file, ext=0)\n",
    "                #image_data = resize(image_data, (100,100))\n",
    "                \n",
    "                \"\"\" Initialize images array in case we haven't done it yet \"\"\"\n",
    "                if images is None:\n",
    "                    images = np.zeros((nsamples,*image_data.shape,len(channels)))\n",
    "\n",
    "                \"\"\" Set data in array \"\"\"\n",
    "                images[iid,:,:,ich] = image_data\n",
    "                if iid not in idxs2keep: \n",
    "                    idxs2keep.append(iid)\n",
    "            else:\n",
    "                print('\\tSkipping index: {} (ID: {})'.format(iid,cid))\n",
    "                break\n",
    "\n",
    "\n",
    "        if iid%100 == 0 and iid != 0:\n",
    "            pbar.update(iid)\n",
    "\n",
    "    \"\"\" Now save to numpy file \"\"\"\n",
    "    print(images.shape)\n",
    "    print(classes[idxs2keep].shape)\n",
    "    np.save(os.path.join(os.getcwd(),'images.npy'), images)\n",
    "    np.save(os.path.join(os.getcwd(),'idxs2keep.npy'), np.array(idxs2keep))\n",
    "    np.save(os.path.join(os.getcwd(),'Y.npy'), classes[idxs2keep])"
   ]
  },
  {
   "cell_type": "code",
   "execution_count": 254,
   "metadata": {},
   "outputs": [
    {
     "name": "stdout",
     "output_type": "stream",
     "text": [
      "(8157, 320, 320, 12)\n",
      "(8157, 7)\n"
     ]
    }
   ],
   "source": [
    "print(images.shape)\n",
    "print(classes[idxs2keep].shape)\n",
    "np.save(os.path.join(os.getcwd(),'images.npy'), images)\n",
    "np.save(os.path.join(os.getcwd(),'idxs2keep.npy'), np.array(idxs2keep))\n",
    "np.save(os.path.join(os.getcwd(),'Y.npy'), classes[idxs2keep])"
   ]
  },
  {
   "cell_type": "code",
   "execution_count": 35,
   "metadata": {},
   "outputs": [
    {
     "name": "stdout",
     "output_type": "stream",
     "text": [
      "SPLUS.STRIPE82-0036.14966.griz_F378.fits\n",
      "(320, 320)\n",
      "(320, 320)\n",
      "(320, 320)\n",
      "(320, 320)\n",
      "(320, 320)\n",
      "(320, 320)\n",
      "(320, 320)\n",
      "(320, 320)\n",
      "(320, 320)\n",
      "(320, 320)\n",
      "(320, 320)\n",
      "(320, 320)\n"
     ]
    }
   ],
   "source": [
    "from keras.utils import Progbar\n",
    "from astropy.io import fits\n",
    "channels = ['F378','F395','F410','F430','F515','F660','F861','G','I','R','U','Z']\n",
    "\n",
    "sample = os.listdir(os.getcwd() + \"/F378\")\n",
    "print(sample[0])\n",
    "\n",
    "for ich,ch in enumerate(channels):\n",
    "\n",
    "            \"\"\" Init image dir and name \"\"\"\n",
    "            image_file = os.path.join(os.getcwd(),\n",
    "                                      ch,\n",
    "                                      '{}{}.fits'.format(sample[0][:-9], ch))\n",
    "            image_data = fits.getdata(image_file, ext=0)\n",
    "            print(image_data.shape)"
   ]
  },
  {
   "cell_type": "code",
   "execution_count": 263,
   "metadata": {},
   "outputs": [],
   "source": [
    "images = images.astype(\"float32\")"
   ]
  },
  {
   "cell_type": "code",
   "execution_count": 264,
   "metadata": {},
   "outputs": [
    {
     "data": {
      "text/plain": [
       "dtype('float32')"
      ]
     },
     "execution_count": 264,
     "metadata": {},
     "output_type": "execute_result"
    }
   ],
   "source": [
    "images.dtype"
   ]
  },
  {
   "cell_type": "code",
   "execution_count": 265,
   "metadata": {},
   "outputs": [],
   "source": [
    "np.save(os.path.join(os.getcwd(),'images.npy'), images)"
   ]
  },
  {
   "cell_type": "markdown",
   "metadata": {},
   "source": [
    "<h1>Exploring Data</h1>"
   ]
  },
  {
   "cell_type": "code",
   "execution_count": 270,
   "metadata": {},
   "outputs": [
    {
     "name": "stdout",
     "output_type": "stream",
     "text": [
      "F378 Max: 359.015778  Min: -59.568520\n",
      "F395 Max: 640.018005  Min: -89.364769\n",
      "F410 Max: 1259.978760  Min: -403.484924\n",
      "F430 Max: 1364.039551  Min: -344.558044\n",
      "F515 Max: 1286.165405  Min: -207.332245\n",
      "F660 Max: 353.611908  Min: -56.241940\n",
      "F861 Max: 1225.646851  Min: -163.902100\n",
      "G Max: 2703.277344  Min: -558.449402\n",
      "I Max: 1917.278564  Min: -393.577362\n",
      "R Max: 2439.543213  Min: -348.254028\n",
      "U Max: 355.387482  Min: -39.655167\n",
      "Z Max: 1669.340698  Min: -369.011871\n"
     ]
    }
   ],
   "source": [
    "for idx, ch in enumerate(channels):\n",
    "    print(ch + \" Max: {:f}  Min: {:f}\".format(images[:,:,:,idx].max(), images[:,:,:,idx].min()) )"
   ]
  },
  {
   "cell_type": "code",
   "execution_count": 273,
   "metadata": {},
   "outputs": [
    {
     "data": {
      "image/png": "[encoded data removed]",
      "text/plain": [
       "<Figure size 432x288 with 1 Axes>"
      ]
     },
     "metadata": {
      "needs_background": "light"
     },
     "output_type": "display_data"
    },
    {
     "data": {
      "image/png": "[encoded data removed]",
      "text/plain": [
       "<Figure size 432x288 with 1 Axes>"
      ]
     },
     "metadata": {
      "needs_background": "light"
     },
     "output_type": "display_data"
    },
    {
     "data": {
      "image/png": "[encoded data removed]",
      "text/plain": [
       "<Figure size 432x288 with 1 Axes>"
      ]
     },
     "metadata": {
      "needs_background": "light"
     },
     "output_type": "display_data"
    },
    {
     "data": {
      "image/png": "[encoded data removed]",
      "text/plain": [
       "<Figure size 432x288 with 1 Axes>"
      ]
     },
     "metadata": {
      "needs_background": "light"
     },
     "output_type": "display_data"
    },
    {
     "data": {
      "image/png": "[encoded data removed]",
      "text/plain": [
       "<Figure size 432x288 with 1 Axes>"
      ]
     },
     "metadata": {
      "needs_background": "light"
     },
     "output_type": "display_data"
    },
    {
     "data": {
      "image/png": "[encoded data removed]",
      "text/plain": [
       "<Figure size 432x288 with 1 Axes>"
      ]
     },
     "metadata": {
      "needs_background": "light"
     },
     "output_type": "display_data"
    },
    {
     "data": {
      "image/png": "[encoded data removed]",
      "text/plain": [
       "<Figure size 432x288 with 1 Axes>"
      ]
     },
     "metadata": {
      "needs_background": "light"
     },
     "output_type": "display_data"
    },
    {
     "data": {
      "image/png": "[encoded data removed]",
      "text/plain": [
       "<Figure size 432x288 with 1 Axes>"
      ]
     },
     "metadata": {
      "needs_background": "light"
     },
     "output_type": "display_data"
    },
    {
     "data": {
      "image/png": "[encoded data removed]",
      "text/plain": [
       "<Figure size 432x288 with 1 Axes>"
      ]
     },
     "metadata": {
      "needs_background": "light"
     },
     "output_type": "display_data"
    },
    {
     "data": {
      "image/png": "[encoded data removed]",
      "text/plain": [
       "<Figure size 432x288 with 1 Axes>"
      ]
     },
     "metadata": {
      "needs_background": "light"
     },
     "output_type": "display_data"
    },
    {
     "data": {
      "image/png": "[encoded data removed]",
      "text/plain": [
       "<Figure size 432x288 with 1 Axes>"
      ]
     },
     "metadata": {
      "needs_background": "light"
     },
     "output_type": "display_data"
    },
    {
     "data": {
      "image/png": "[encoded data removed]",
      "text/plain": [
       "<Figure size 432x288 with 1 Axes>"
      ]
     },
     "metadata": {
      "needs_background": "light"
     },
     "output_type": "display_data"
    }
   ],
   "source": [
    "import matplotlib.pyplot as plt\n",
    "\n",
    "for idx, ch in enumerate(channels):\n",
    "    ch_max = images[:,:,:,idx].max()\n",
    "    ch_min = images[:,:,:,idx].min()\n",
    "    plt.hist(images[:,:,:,idx].ravel(), bins=np.linspace(ch_min, ch_max, 100))\n",
    "    plt.xlim(ch_min, ch_max)\n",
    "    plt.title(f\"{ch} Distribution\")\n",
    "\n",
    "    plt.show()"
   ]
  },
  {
   "cell_type": "code",
   "execution_count": 274,
   "metadata": {},
   "outputs": [
    {
     "data": {
      "image/png": "[encoded data removed]",
      "text/plain": [
       "<Figure size 432x288 with 1 Axes>"
      ]
     },
     "metadata": {
      "needs_background": "light"
     },
     "output_type": "display_data"
    },
    {
     "data": {
      "image/png": "[encoded data removed]",
      "text/plain": [
       "<Figure size 432x288 with 1 Axes>"
      ]
     },
     "metadata": {
      "needs_background": "light"
     },
     "output_type": "display_data"
    },
    {
     "data": {
      "image/png": "[encoded data removed]",
      "text/plain": [
       "<Figure size 432x288 with 1 Axes>"
      ]
     },
     "metadata": {
      "needs_background": "light"
     },
     "output_type": "display_data"
    },
    {
     "data": {
      "image/png": "[encoded data removed]",
      "text/plain": [
       "<Figure size 432x288 with 1 Axes>"
      ]
     },
     "metadata": {
      "needs_background": "light"
     },
     "output_type": "display_data"
    },
    {
     "data": {
      "image/png": "[encoded data removed]",
      "text/plain": [
       "<Figure size 432x288 with 1 Axes>"
      ]
     },
     "metadata": {
      "needs_background": "light"
     },
     "output_type": "display_data"
    },
    {
     "data": {
      "image/png": "[encoded data removed]",
      "text/plain": [
       "<Figure size 432x288 with 1 Axes>"
      ]
     },
     "metadata": {
      "needs_background": "light"
     },
     "output_type": "display_data"
    },
    {
     "data": {
      "image/png": "[encoded data removed]",
      "text/plain": [
       "<Figure size 432x288 with 1 Axes>"
      ]
     },
     "metadata": {
      "needs_background": "light"
     },
     "output_type": "display_data"
    },
    {
     "data": {
      "image/png": "[encoded data removed]",
      "text/plain": [
       "<Figure size 432x288 with 1 Axes>"
      ]
     },
     "metadata": {
      "needs_background": "light"
     },
     "output_type": "display_data"
    },
    {
     "data": {
      "image/png": "[encoded data removed]",
      "text/plain": [
       "<Figure size 432x288 with 1 Axes>"
      ]
     },
     "metadata": {
      "needs_background": "light"
     },
     "output_type": "display_data"
    },
    {
     "data": {
      "image/png": "[encoded data removed]",
      "text/plain": [
       "<Figure size 432x288 with 1 Axes>"
      ]
     },
     "metadata": {
      "needs_background": "light"
     },
     "output_type": "display_data"
    },
    {
     "data": {
      "image/png": "[encoded data removed]",
      "text/plain": [
       "<Figure size 432x288 with 1 Axes>"
      ]
     },
     "metadata": {
      "needs_background": "light"
     },
     "output_type": "display_data"
    },
    {
     "data": {
      "image/png": "[encoded data removed]",
      "text/plain": [
       "<Figure size 432x288 with 1 Axes>"
      ]
     },
     "metadata": {
      "needs_background": "light"
     },
     "output_type": "display_data"
    }
   ],
   "source": [
    "for idx, ch in enumerate(channels):\n",
    "    ch_max = np.percentile(images[:,:,:,idx], 99.9)\n",
    "    ch_min = -(np.percentile(-images[:,:,:,idx], 99.9))\n",
    "    plt.hist(images[:,:,:,idx].ravel(), bins=np.linspace(ch_min, ch_max, 100))\n",
    "    plt.xlim(ch_min, ch_max)\n",
    "    plt.title(f\"{ch} Distribution\")\n",
    "\n",
    "    plt.show()"
   ]
  },
  {
   "cell_type": "code",
   "execution_count": 278,
   "metadata": {},
   "outputs": [
    {
     "data": {
      "image/png": "[encoded data removed]",
      "text/plain": [
       "<Figure size 432x288 with 1 Axes>"
      ]
     },
     "metadata": {
      "needs_background": "light"
     },
     "output_type": "display_data"
    },
    {
     "data": {
      "image/png": "[encoded data removed]",
      "text/plain": [
       "<Figure size 432x288 with 1 Axes>"
      ]
     },
     "metadata": {
      "needs_background": "light"
     },
     "output_type": "display_data"
    },
    {
     "data": {
      "image/png": "[encoded data removed]",
      "text/plain": [
       "<Figure size 432x288 with 1 Axes>"
      ]
     },
     "metadata": {
      "needs_background": "light"
     },
     "output_type": "display_data"
    },
    {
     "data": {
      "image/png": "[encoded data removed]",
      "text/plain": [
       "<Figure size 432x288 with 1 Axes>"
      ]
     },
     "metadata": {
      "needs_background": "light"
     },
     "output_type": "display_data"
    },
    {
     "data": {
      "image/png": "[encoded data removed]",
      "text/plain": [
       "<Figure size 432x288 with 1 Axes>"
      ]
     },
     "metadata": {
      "needs_background": "light"
     },
     "output_type": "display_data"
    },
    {
     "data": {
      "image/png": "[encoded data removed]",
      "text/plain": [
       "<Figure size 432x288 with 1 Axes>"
      ]
     },
     "metadata": {
      "needs_background": "light"
     },
     "output_type": "display_data"
    },
    {
     "data": {
      "image/png": "[encoded data removed]",
      "text/plain": [
       "<Figure size 432x288 with 1 Axes>"
      ]
     },
     "metadata": {
      "needs_background": "light"
     },
     "output_type": "display_data"
    },
    {
     "data": {
      "image/png": "[encoded data removed]",
      "text/plain": [
       "<Figure size 432x288 with 1 Axes>"
      ]
     },
     "metadata": {
      "needs_background": "light"
     },
     "output_type": "display_data"
    },
    {
     "data": {
      "image/png": "[encoded data removed]",
      "text/plain": [
       "<Figure size 432x288 with 1 Axes>"
      ]
     },
     "metadata": {
      "needs_background": "light"
     },
     "output_type": "display_data"
    },
    {
     "data": {
      "image/png": "[encoded data removed]",
      "text/plain": [
       "<Figure size 432x288 with 1 Axes>"
      ]
     },
     "metadata": {
      "needs_background": "light"
     },
     "output_type": "display_data"
    },
    {
     "data": {
      "image/png": "[encoded data removed]",
      "text/plain": [
       "<Figure size 432x288 with 1 Axes>"
      ]
     },
     "metadata": {
      "needs_background": "light"
     },
     "output_type": "display_data"
    },
    {
     "data": {
      "image/png": "[encoded data removed]",
      "text/plain": [
       "<Figure size 432x288 with 1 Axes>"
      ]
     },
     "metadata": {
      "needs_background": "light"
     },
     "output_type": "display_data"
    }
   ],
   "source": [
    "percentile = [99.9, 99.9, 99.9, 99.9, 99.8, 99.6, 99.7, 99.6, 99.5, 99.5, 99.9, 99.6]\n",
    "for idx, (ch, percent) in enumerate(zip(channels, percentile)):\n",
    "    ch_max = np.percentile(images[:,:,:,idx], percent)\n",
    "    ch_min = -(np.percentile(-images[:,:,:,idx], 99.9))\n",
    "    plt.hist(images[:,:,:,idx].ravel(), bins=np.linspace(ch_min, ch_max, 100))\n",
    "    plt.xlim(ch_min, ch_max)\n",
    "    plt.title(f\"{ch} Distribution\")\n",
    "\n",
    "    plt.show()"
   ]
  },
  {
   "cell_type": "markdown",
   "metadata": {},
   "source": [
    "<h1>Normalizing Features</h1>"
   ]
  },
  {
   "cell_type": "code",
   "execution_count": 2,
   "metadata": {},
   "outputs": [],
   "source": [
    "images = np.load(\"images.npy\")"
   ]
  },
  {
   "cell_type": "code",
   "execution_count": 3,
   "metadata": {},
   "outputs": [],
   "source": [
    "def MinMaxScaler(array, scale=[0,1]):\n",
    "    array_max = array.max()\n",
    "    array_min = array.min()\n",
    "    return scale[0]+(((array - array_min)*(scale[1] - scale[0]))/(array_max - array_min))\n",
    "\n",
    "def StandardScaler(array):\n",
    "    array_mean = array.mean()\n",
    "    array_std = array.std()\n",
    "    return (array - array_mean)/(array_std)"
   ]
  },
  {
   "cell_type": "code",
   "execution_count": 15,
   "metadata": {},
   "outputs": [
    {
     "name": "stdout",
     "output_type": "stream",
     "text": [
      "Norm: MinMaxStandard Channel: F378 Max: 1.000 Min: 0.000 Mean: 0.344 Std: 0.090\n",
      "Norm: MinMaxStandard Channel: F395 Max: 1.000 Min: 0.000 Mean: 0.389 Std: 0.108\n",
      "Norm: MinMaxStandard Channel: F410 Max: 1.000 Min: 0.000 Mean: 0.286 Std: 0.077\n",
      "Norm: MinMaxStandard Channel: F430 Max: 1.000 Min: 0.000 Mean: 0.246 Std: 0.069\n",
      "Norm: MinMaxStandard Channel: F515 Max: 1.000 Min: 0.000 Mean: 0.288 Std: 0.082\n",
      "Norm: MinMaxStandard Channel: F660 Max: 1.000 Min: 0.000 Mean: 0.229 Std: 0.085\n",
      "Norm: MinMaxStandard Channel: F861 Max: 1.000 Min: 0.000 Mean: 0.295 Std: 0.090\n",
      "Norm: MinMaxStandard Channel:    G Max: 1.000 Min: 0.000 Mean: 0.349 Std: 0.090\n",
      "Norm: MinMaxStandard Channel:    I Max: 1.000 Min: 0.000 Mean: 0.280 Std: 0.094\n",
      "Norm: MinMaxStandard Channel:    R Max: 1.000 Min: 0.000 Mean: 0.270 Std: 0.093\n",
      "Norm: MinMaxStandard Channel:    U Max: 1.000 Min: 0.000 Mean: 0.319 Std: 0.083\n",
      "Norm: MinMaxStandard Channel:    Z Max: 1.000 Min: 0.000 Mean: 0.315 Std: 0.094\n",
      "Norm:    MinMaxRange Channel: F378 Max: 1.000 Min: -1.000 Mean: -0.312 Std: 0.180\n",
      "Norm:    MinMaxRange Channel: F395 Max: 1.000 Min: -1.000 Mean: -0.222 Std: 0.216\n",
      "Norm:    MinMaxRange Channel: F410 Max: 1.000 Min: -1.000 Mean: -0.429 Std: 0.155\n",
      "Norm:    MinMaxRange Channel: F430 Max: 1.000 Min: -1.000 Mean: -0.509 Std: 0.138\n",
      "Norm:    MinMaxRange Channel: F515 Max: 1.000 Min: -1.000 Mean: -0.425 Std: 0.164\n",
      "Norm:    MinMaxRange Channel: F660 Max: 1.000 Min: -1.000 Mean: -0.541 Std: 0.170\n",
      "Norm:    MinMaxRange Channel: F861 Max: 1.000 Min: -1.000 Mean: -0.409 Std: 0.181\n",
      "Norm:    MinMaxRange Channel:    G Max: 1.000 Min: -1.000 Mean: -0.301 Std: 0.180\n",
      "Norm:    MinMaxRange Channel:    I Max: 1.000 Min: -1.000 Mean: -0.440 Std: 0.189\n",
      "Norm:    MinMaxRange Channel:    R Max: 1.000 Min: -1.000 Mean: -0.460 Std: 0.185\n",
      "Norm:    MinMaxRange Channel:    U Max: 1.000 Min: -1.000 Mean: -0.361 Std: 0.166\n",
      "Norm:    MinMaxRange Channel:    Z Max: 1.000 Min: -1.000 Mean: -0.371 Std: 0.188\n",
      "Norm:       Standard Channel: F378 Max: 7.310 Min: -3.830 Mean: 0.000 Std: 1.000\n",
      "Norm:       Standard Channel: F395 Max: 5.662 Min: -3.607 Mean: 0.000 Std: 1.000\n",
      "Norm:       Standard Channel: F410 Max: 9.227 Min: -3.691 Mean: -0.000 Std: 1.000\n",
      "Norm:       Standard Channel: F430 Max: 10.953 Min: -3.565 Mean: -0.000 Std: 1.000\n",
      "Norm:       Standard Channel: F515 Max: 8.665 Min: -3.500 Mean: -0.000 Std: 1.000\n",
      "Norm:       Standard Channel: F660 Max: 9.084 Min: -2.706 Mean: -0.000 Std: 1.000\n",
      "Norm:       Standard Channel: F861 Max: 7.804 Min: -3.270 Mean: -0.000 Std: 1.000\n",
      "Norm:       Standard Channel:    G Max: 7.231 Min: -3.885 Mean: 0.000 Std: 1.000\n",
      "Norm:       Standard Channel:    I Max: 7.622 Min: -2.964 Mean: 0.000 Std: 1.000\n",
      "Norm:       Standard Channel:    R Max: 7.888 Min: -2.914 Mean: 0.000 Std: 1.000\n",
      "Norm:       Standard Channel:    U Max: 8.177 Min: -3.837 Mean: 0.000 Std: 1.000\n",
      "Norm:       Standard Channel:    Z Max: 7.302 Min: -3.352 Mean: 0.000 Std: 1.000\n"
     ]
    }
   ],
   "source": [
    "channels = ['F378','F395','F410','F430','F515','F660','F861','G','I','R','U','Z']\n",
    "percentile = [99.9, 99.9, 99.9, 99.9, 99.8, 99.6, 99.7, 99.6, 99.5, 99.5, 99.9, 99.6]\n",
    "\n",
    "\n",
    "for norm in [\"MinMaxStandard\", \"MinMaxRange\", \"Standard\"]:\n",
    "    images_normalized = np.zeros(images.shape, dtype=\"float32\")\n",
    "    for idx, (ch, percent) in enumerate(zip(channels, percentile)):\n",
    "        ch_max = np.percentile(images[:,:,:,idx], percent)\n",
    "        ch_min = -(np.percentile(-images[:,:,:,idx], 99.9))\n",
    "        #Switch images_test for images[:,:,:, idx]\n",
    "        images[:,:,:, idx] = np.clip(images[:,:,:,idx], ch_min, ch_max)\n",
    "        if norm == \"MinMaxStandard\":\n",
    "            images_normalized[:,:,:, idx] = MinMaxScaler(images[:,:,:, idx], [0,1])\n",
    "        elif norm == \"MinMaxRange\":\n",
    "            images_normalized[:,:,:, idx] = MinMaxScaler(images[:,:,:, idx], [-1,1])\n",
    "        elif norm == \"Standard\":\n",
    "            images_normalized[:,:,:, idx] = StandardScaler(images[:,:,:, idx])\n",
    "            \n",
    "        print(f\"Norm: {norm:>14} Channel: {ch:>4} Max: {images_normalized[:,:,:, idx].max():.3f} Min: {images_normalized[:,:,:, idx].min():.3f} Mean: {images_normalized[:,:,:, idx].mean():.3f} Std: {images_normalized[:,:,:, idx].std():.3f}\")\n",
    "        \n",
    "    np.save(f\"Images_{norm}.npy\", images_normalized)"
   ]
  },
  {
   "cell_type": "code",
   "execution_count": 16,
   "metadata": {},
   "outputs": [
    {
     "data": {
      "text/plain": [
       "(8157, 320, 320, 12)"
      ]
     },
     "execution_count": 16,
     "metadata": {},
     "output_type": "execute_result"
    }
   ],
   "source": [
    "images_normalized.shape"
   ]
  },
  {
   "cell_type": "markdown",
   "metadata": {},
   "source": [
    "<h1>Parallel Stuff</h1>"
   ]
  },
  {
   "cell_type": "code",
   "execution_count": 14,
   "metadata": {},
   "outputs": [
    {
     "name": "stdout",
     "output_type": "stream",
     "text": [
      "0\n",
      "11\n",
      "3\n",
      "4\n",
      "1\n",
      "7\n",
      "8\n",
      "5\n",
      "2\n",
      "10\n",
      "6\n",
      "9\n",
      "Antes do percentle 3\n",
      "Antes do percentle 11\n",
      "Antes do percentle 0\n",
      "Antes do percentle 8\n",
      "Antes do percentle 7\n",
      "Antes do percentle 4\n",
      "Antes do percentle 9\n",
      "Antes do percentle 10\n",
      "Antes do percentle 6\n",
      "Antes do percentle 1\n",
      "Antes do percentle 5\n",
      "Antes do percentle 2\n",
      "Norm: MinMaxStandard | Seguraaaaa\n",
      "Meio do percentile 1\n",
      "Meio do percentile 2\n",
      "Meio do percentile 3\n",
      "Meio do percentile 7\n",
      "Meio do percentile 6\n",
      "Meio do percentile 10\n",
      "Meio do percentile 4\n",
      "Meio do percentile 11\n",
      "Meio do percentile 0\n",
      "Meio do percentile 9\n",
      "Meio do percentile 5\n",
      "Meio do percentile 8\n",
      "Antes do Clip 3\n",
      "Antes do Clip 2\n",
      "Antes do Clip 1\n",
      "Antes do Clip 4\n",
      "Antes do Clip 6\n"
     ]
    },
    {
     "name": "stderr",
     "output_type": "stream",
     "text": [
      "Process ForkProcess-87:\n",
      "Process ForkProcess-78:\n",
      "Process ForkProcess-79:\n",
      "Process ForkProcess-80:\n",
      "Process ForkProcess-88:\n",
      "Process ForkProcess-84:\n",
      "Process ForkProcess-95:\n",
      "Process ForkProcess-93:\n",
      "Process ForkProcess-89:\n",
      "Process ForkProcess-85:\n",
      "Process ForkProcess-82:\n",
      "Process ForkProcess-96:\n",
      "Process ForkProcess-92:\n",
      "Process ForkProcess-94:\n",
      "Process ForkProcess-77:\n",
      "Process ForkProcess-90:\n",
      "Process ForkProcess-86:\n",
      "Process ForkProcess-91:\n",
      "Process ForkProcess-81:\n",
      "Process ForkProcess-83:\n",
      "Traceback (most recent call last):\n",
      "Traceback (most recent call last):\n",
      "Traceback (most recent call last):\n",
      "Traceback (most recent call last):\n",
      "Traceback (most recent call last):\n",
      "Traceback (most recent call last):\n",
      "Traceback (most recent call last):\n",
      "Traceback (most recent call last):\n",
      "Traceback (most recent call last):\n",
      "Traceback (most recent call last):\n",
      "Traceback (most recent call last):\n",
      "Traceback (most recent call last):\n",
      "Traceback (most recent call last):\n",
      "Traceback (most recent call last):\n",
      "Traceback (most recent call last):\n",
      "Traceback (most recent call last):\n",
      "Traceback (most recent call last):\n",
      "Traceback (most recent call last):\n",
      "Traceback (most recent call last):\n",
      "Traceback (most recent call last):\n",
      "  File \"/home/patrick/anaconda3/envs/DL/lib/python3.7/multiprocessing/process.py\", line 297, in _bootstrap\n",
      "    self.run()\n",
      "  File \"/home/patrick/anaconda3/envs/DL/lib/python3.7/multiprocessing/process.py\", line 297, in _bootstrap\n",
      "    self.run()\n",
      "  File \"/home/patrick/anaconda3/envs/DL/lib/python3.7/multiprocessing/process.py\", line 297, in _bootstrap\n",
      "    self.run()\n",
      "  File \"/home/patrick/anaconda3/envs/DL/lib/python3.7/multiprocessing/process.py\", line 297, in _bootstrap\n",
      "    self.run()\n",
      "  File \"/home/patrick/anaconda3/envs/DL/lib/python3.7/multiprocessing/process.py\", line 297, in _bootstrap\n",
      "    self.run()\n",
      "  File \"/home/patrick/anaconda3/envs/DL/lib/python3.7/multiprocessing/process.py\", line 297, in _bootstrap\n",
      "    self.run()\n",
      "  File \"/home/patrick/anaconda3/envs/DL/lib/python3.7/multiprocessing/process.py\", line 297, in _bootstrap\n",
      "    self.run()\n",
      "  File \"/home/patrick/anaconda3/envs/DL/lib/python3.7/multiprocessing/process.py\", line 297, in _bootstrap\n",
      "    self.run()\n",
      "  File \"/home/patrick/anaconda3/envs/DL/lib/python3.7/multiprocessing/process.py\", line 297, in _bootstrap\n",
      "    self.run()\n",
      "  File \"/home/patrick/anaconda3/envs/DL/lib/python3.7/multiprocessing/process.py\", line 297, in _bootstrap\n",
      "    self.run()\n",
      "  File \"/home/patrick/anaconda3/envs/DL/lib/python3.7/multiprocessing/process.py\", line 297, in _bootstrap\n",
      "    self.run()\n",
      "  File \"/home/patrick/anaconda3/envs/DL/lib/python3.7/multiprocessing/process.py\", line 297, in _bootstrap\n",
      "    self.run()\n",
      "  File \"/home/patrick/anaconda3/envs/DL/lib/python3.7/multiprocessing/process.py\", line 297, in _bootstrap\n",
      "    self.run()\n",
      "  File \"/home/patrick/anaconda3/envs/DL/lib/python3.7/multiprocessing/process.py\", line 297, in _bootstrap\n",
      "    self.run()\n",
      "  File \"/home/patrick/anaconda3/envs/DL/lib/python3.7/multiprocessing/process.py\", line 297, in _bootstrap\n",
      "    self.run()\n",
      "  File \"/home/patrick/anaconda3/envs/DL/lib/python3.7/multiprocessing/process.py\", line 297, in _bootstrap\n",
      "    self.run()\n",
      "  File \"/home/patrick/anaconda3/envs/DL/lib/python3.7/multiprocessing/process.py\", line 297, in _bootstrap\n",
      "    self.run()\n",
      "  File \"/home/patrick/anaconda3/envs/DL/lib/python3.7/multiprocessing/process.py\", line 99, in run\n",
      "    self._target(*self._args, **self._kwargs)\n",
      "  File \"/home/patrick/anaconda3/envs/DL/lib/python3.7/multiprocessing/process.py\", line 99, in run\n",
      "    self._target(*self._args, **self._kwargs)\n",
      "  File \"/home/patrick/anaconda3/envs/DL/lib/python3.7/multiprocessing/process.py\", line 297, in _bootstrap\n",
      "    self.run()\n",
      "  File \"/home/patrick/anaconda3/envs/DL/lib/python3.7/multiprocessing/process.py\", line 297, in _bootstrap\n",
      "    self.run()\n",
      "  File \"/home/patrick/anaconda3/envs/DL/lib/python3.7/multiprocessing/process.py\", line 99, in run\n",
      "    self._target(*self._args, **self._kwargs)\n",
      "  File \"/home/patrick/anaconda3/envs/DL/lib/python3.7/multiprocessing/process.py\", line 99, in run\n",
      "    self._target(*self._args, **self._kwargs)\n",
      "  File \"/home/patrick/anaconda3/envs/DL/lib/python3.7/multiprocessing/process.py\", line 99, in run\n",
      "    self._target(*self._args, **self._kwargs)\n",
      "  File \"/home/patrick/anaconda3/envs/DL/lib/python3.7/multiprocessing/process.py\", line 99, in run\n",
      "    self._target(*self._args, **self._kwargs)\n",
      "  File \"/home/patrick/anaconda3/envs/DL/lib/python3.7/multiprocessing/process.py\", line 99, in run\n",
      "    self._target(*self._args, **self._kwargs)\n",
      "  File \"/home/patrick/anaconda3/envs/DL/lib/python3.7/multiprocessing/process.py\", line 99, in run\n",
      "    self._target(*self._args, **self._kwargs)\n",
      "  File \"/home/patrick/anaconda3/envs/DL/lib/python3.7/multiprocessing/process.py\", line 99, in run\n",
      "    self._target(*self._args, **self._kwargs)\n",
      "  File \"/home/patrick/anaconda3/envs/DL/lib/python3.7/multiprocessing/process.py\", line 99, in run\n",
      "    self._target(*self._args, **self._kwargs)\n",
      "  File \"/home/patrick/anaconda3/envs/DL/lib/python3.7/multiprocessing/process.py\", line 99, in run\n",
      "    self._target(*self._args, **self._kwargs)\n",
      "  File \"/home/patrick/anaconda3/envs/DL/lib/python3.7/multiprocessing/process.py\", line 99, in run\n",
      "    self._target(*self._args, **self._kwargs)\n",
      "  File \"/home/patrick/anaconda3/envs/DL/lib/python3.7/multiprocessing/process.py\", line 99, in run\n",
      "    self._target(*self._args, **self._kwargs)\n",
      "  File \"/home/patrick/anaconda3/envs/DL/lib/python3.7/multiprocessing/process.py\", line 99, in run\n",
      "    self._target(*self._args, **self._kwargs)\n",
      "  File \"/home/patrick/anaconda3/envs/DL/lib/python3.7/multiprocessing/process.py\", line 99, in run\n",
      "    self._target(*self._args, **self._kwargs)\n",
      "  File \"/home/patrick/anaconda3/envs/DL/lib/python3.7/multiprocessing/process.py\", line 99, in run\n",
      "    self._target(*self._args, **self._kwargs)\n",
      "  File \"/home/patrick/anaconda3/envs/DL/lib/python3.7/concurrent/futures/process.py\", line 233, in _process_worker\n",
      "    call_item = call_queue.get(block=True)\n",
      "  File \"/home/patrick/anaconda3/envs/DL/lib/python3.7/multiprocessing/process.py\", line 99, in run\n",
      "    self._target(*self._args, **self._kwargs)\n",
      "  File \"/home/patrick/anaconda3/envs/DL/lib/python3.7/multiprocessing/process.py\", line 297, in _bootstrap\n",
      "    self.run()\n",
      "  File \"/home/patrick/anaconda3/envs/DL/lib/python3.7/concurrent/futures/process.py\", line 233, in _process_worker\n",
      "    call_item = call_queue.get(block=True)\n",
      "  File \"/home/patrick/anaconda3/envs/DL/lib/python3.7/multiprocessing/process.py\", line 99, in run\n",
      "    self._target(*self._args, **self._kwargs)\n",
      "  File \"/home/patrick/anaconda3/envs/DL/lib/python3.7/concurrent/futures/process.py\", line 233, in _process_worker\n",
      "    call_item = call_queue.get(block=True)\n",
      "  File \"/home/patrick/anaconda3/envs/DL/lib/python3.7/concurrent/futures/process.py\", line 233, in _process_worker\n",
      "    call_item = call_queue.get(block=True)\n",
      "  File \"/home/patrick/anaconda3/envs/DL/lib/python3.7/concurrent/futures/process.py\", line 233, in _process_worker\n",
      "    call_item = call_queue.get(block=True)\n",
      "  File \"/home/patrick/anaconda3/envs/DL/lib/python3.7/multiprocessing/process.py\", line 99, in run\n",
      "    self._target(*self._args, **self._kwargs)\n",
      "  File \"/home/patrick/anaconda3/envs/DL/lib/python3.7/concurrent/futures/process.py\", line 233, in _process_worker\n",
      "    call_item = call_queue.get(block=True)\n",
      "  File \"/home/patrick/anaconda3/envs/DL/lib/python3.7/concurrent/futures/process.py\", line 233, in _process_worker\n",
      "    call_item = call_queue.get(block=True)\n",
      "  File \"/home/patrick/anaconda3/envs/DL/lib/python3.7/concurrent/futures/process.py\", line 233, in _process_worker\n",
      "    call_item = call_queue.get(block=True)\n",
      "  File \"/home/patrick/anaconda3/envs/DL/lib/python3.7/concurrent/futures/process.py\", line 233, in _process_worker\n",
      "    call_item = call_queue.get(block=True)\n",
      "  File \"/home/patrick/anaconda3/envs/DL/lib/python3.7/concurrent/futures/process.py\", line 233, in _process_worker\n",
      "    call_item = call_queue.get(block=True)\n",
      "  File \"/home/patrick/anaconda3/envs/DL/lib/python3.7/concurrent/futures/process.py\", line 233, in _process_worker\n",
      "    call_item = call_queue.get(block=True)\n",
      "  File \"/home/patrick/anaconda3/envs/DL/lib/python3.7/concurrent/futures/process.py\", line 233, in _process_worker\n",
      "    call_item = call_queue.get(block=True)\n",
      "  File \"/home/patrick/anaconda3/envs/DL/lib/python3.7/concurrent/futures/process.py\", line 233, in _process_worker\n",
      "    call_item = call_queue.get(block=True)\n",
      "  File \"/home/patrick/anaconda3/envs/DL/lib/python3.7/concurrent/futures/process.py\", line 233, in _process_worker\n",
      "    call_item = call_queue.get(block=True)\n",
      "  File \"/home/patrick/anaconda3/envs/DL/lib/python3.7/multiprocessing/queues.py\", line 93, in get\n",
      "    with self._rlock:\n",
      "  File \"/home/patrick/anaconda3/envs/DL/lib/python3.7/concurrent/futures/process.py\", line 233, in _process_worker\n",
      "    call_item = call_queue.get(block=True)\n",
      "  File \"/home/patrick/anaconda3/envs/DL/lib/python3.7/concurrent/futures/process.py\", line 233, in _process_worker\n",
      "    call_item = call_queue.get(block=True)\n",
      "  File \"/home/patrick/anaconda3/envs/DL/lib/python3.7/concurrent/futures/process.py\", line 233, in _process_worker\n",
      "    call_item = call_queue.get(block=True)\n",
      "  File \"/home/patrick/anaconda3/envs/DL/lib/python3.7/multiprocessing/queues.py\", line 93, in get\n",
      "    with self._rlock:\n",
      "  File \"/home/patrick/anaconda3/envs/DL/lib/python3.7/concurrent/futures/process.py\", line 233, in _process_worker\n",
      "    call_item = call_queue.get(block=True)\n",
      "  File \"/home/patrick/anaconda3/envs/DL/lib/python3.7/multiprocessing/process.py\", line 99, in run\n",
      "    self._target(*self._args, **self._kwargs)\n",
      "  File \"/home/patrick/anaconda3/envs/DL/lib/python3.7/multiprocessing/queues.py\", line 93, in get\n",
      "    with self._rlock:\n",
      "  File \"/home/patrick/anaconda3/envs/DL/lib/python3.7/multiprocessing/queues.py\", line 93, in get\n",
      "    with self._rlock:\n",
      "  File \"/home/patrick/anaconda3/envs/DL/lib/python3.7/multiprocessing/queues.py\", line 93, in get\n",
      "    with self._rlock:\n",
      "  File \"/home/patrick/anaconda3/envs/DL/lib/python3.7/concurrent/futures/process.py\", line 233, in _process_worker\n",
      "    call_item = call_queue.get(block=True)\n",
      "  File \"/home/patrick/anaconda3/envs/DL/lib/python3.7/multiprocessing/queues.py\", line 93, in get\n",
      "    with self._rlock:\n",
      "  File \"/home/patrick/anaconda3/envs/DL/lib/python3.7/multiprocessing/queues.py\", line 93, in get\n",
      "    with self._rlock:\n",
      "  File \"/home/patrick/anaconda3/envs/DL/lib/python3.7/multiprocessing/queues.py\", line 93, in get\n",
      "    with self._rlock:\n",
      "  File \"/home/patrick/anaconda3/envs/DL/lib/python3.7/multiprocessing/queues.py\", line 93, in get\n",
      "    with self._rlock:\n",
      "  File \"/home/patrick/anaconda3/envs/DL/lib/python3.7/multiprocessing/queues.py\", line 93, in get\n",
      "    with self._rlock:\n",
      "  File \"/home/patrick/anaconda3/envs/DL/lib/python3.7/multiprocessing/queues.py\", line 93, in get\n",
      "    with self._rlock:\n",
      "  File \"/home/patrick/anaconda3/envs/DL/lib/python3.7/multiprocessing/queues.py\", line 93, in get\n",
      "    with self._rlock:\n",
      "  File \"/home/patrick/anaconda3/envs/DL/lib/python3.7/multiprocessing/queues.py\", line 93, in get\n",
      "    with self._rlock:\n",
      "  File \"/home/patrick/anaconda3/envs/DL/lib/python3.7/multiprocessing/queues.py\", line 93, in get\n",
      "    with self._rlock:\n",
      "  File \"/home/patrick/anaconda3/envs/DL/lib/python3.7/multiprocessing/queues.py\", line 93, in get\n",
      "    with self._rlock:\n",
      "  File \"/home/patrick/anaconda3/envs/DL/lib/python3.7/multiprocessing/synchronize.py\", line 95, in __enter__\n",
      "    return self._semlock.__enter__()\n",
      "  File \"/home/patrick/anaconda3/envs/DL/lib/python3.7/multiprocessing/synchronize.py\", line 95, in __enter__\n",
      "    return self._semlock.__enter__()\n",
      "  File \"/home/patrick/anaconda3/envs/DL/lib/python3.7/multiprocessing/synchronize.py\", line 95, in __enter__\n",
      "    return self._semlock.__enter__()\n",
      "  File \"/home/patrick/anaconda3/envs/DL/lib/python3.7/multiprocessing/queues.py\", line 93, in get\n",
      "    with self._rlock:\n",
      "  File \"/home/patrick/anaconda3/envs/DL/lib/python3.7/multiprocessing/queues.py\", line 93, in get\n",
      "    with self._rlock:\n",
      "  File \"/home/patrick/anaconda3/envs/DL/lib/python3.7/multiprocessing/queues.py\", line 93, in get\n",
      "    with self._rlock:\n",
      "  File \"/home/patrick/anaconda3/envs/DL/lib/python3.7/multiprocessing/synchronize.py\", line 95, in __enter__\n",
      "    return self._semlock.__enter__()\n",
      "  File \"/home/patrick/anaconda3/envs/DL/lib/python3.7/concurrent/futures/process.py\", line 233, in _process_worker\n",
      "    call_item = call_queue.get(block=True)\n",
      "  File \"/home/patrick/anaconda3/envs/DL/lib/python3.7/multiprocessing/synchronize.py\", line 95, in __enter__\n",
      "    return self._semlock.__enter__()\n",
      "  File \"/home/patrick/anaconda3/envs/DL/lib/python3.7/multiprocessing/synchronize.py\", line 95, in __enter__\n",
      "    return self._semlock.__enter__()\n",
      "  File \"/home/patrick/anaconda3/envs/DL/lib/python3.7/multiprocessing/queues.py\", line 94, in get\n",
      "    res = self._recv_bytes()\n",
      "  File \"/home/patrick/anaconda3/envs/DL/lib/python3.7/multiprocessing/synchronize.py\", line 95, in __enter__\n",
      "    return self._semlock.__enter__()\n",
      "  File \"/home/patrick/anaconda3/envs/DL/lib/python3.7/multiprocessing/synchronize.py\", line 95, in __enter__\n",
      "    return self._semlock.__enter__()\n",
      "  File \"/home/patrick/anaconda3/envs/DL/lib/python3.7/multiprocessing/synchronize.py\", line 95, in __enter__\n",
      "    return self._semlock.__enter__()\n",
      "  File \"/home/patrick/anaconda3/envs/DL/lib/python3.7/multiprocessing/synchronize.py\", line 95, in __enter__\n",
      "    return self._semlock.__enter__()\n",
      "  File \"/home/patrick/anaconda3/envs/DL/lib/python3.7/multiprocessing/synchronize.py\", line 95, in __enter__\n",
      "    return self._semlock.__enter__()\n",
      "  File \"/home/patrick/anaconda3/envs/DL/lib/python3.7/multiprocessing/synchronize.py\", line 95, in __enter__\n",
      "    return self._semlock.__enter__()\n",
      "  File \"/home/patrick/anaconda3/envs/DL/lib/python3.7/multiprocessing/synchronize.py\", line 95, in __enter__\n",
      "    return self._semlock.__enter__()\n",
      "  File \"/home/patrick/anaconda3/envs/DL/lib/python3.7/multiprocessing/synchronize.py\", line 95, in __enter__\n",
      "    return self._semlock.__enter__()\n",
      "KeyboardInterrupt\n",
      "  File \"/home/patrick/anaconda3/envs/DL/lib/python3.7/multiprocessing/synchronize.py\", line 95, in __enter__\n",
      "    return self._semlock.__enter__()\n",
      "KeyboardInterrupt\n",
      "KeyboardInterrupt\n",
      "  File \"/home/patrick/anaconda3/envs/DL/lib/python3.7/multiprocessing/synchronize.py\", line 95, in __enter__\n",
      "    return self._semlock.__enter__()\n",
      "  File \"/home/patrick/anaconda3/envs/DL/lib/python3.7/multiprocessing/queues.py\", line 93, in get\n",
      "    with self._rlock:\n",
      "KeyboardInterrupt\n",
      "  File \"/home/patrick/anaconda3/envs/DL/lib/python3.7/multiprocessing/synchronize.py\", line 95, in __enter__\n",
      "    return self._semlock.__enter__()\n",
      "KeyboardInterrupt\n",
      "KeyboardInterrupt\n",
      "KeyboardInterrupt\n",
      "KeyboardInterrupt\n",
      "KeyboardInterrupt\n",
      "KeyboardInterrupt\n",
      "KeyboardInterrupt\n",
      "KeyboardInterrupt\n",
      "KeyboardInterrupt\n",
      "  File \"/home/patrick/anaconda3/envs/DL/lib/python3.7/multiprocessing/connection.py\", line 216, in recv_bytes\n",
      "    buf = self._recv_bytes(maxlength)\n",
      "KeyboardInterrupt\n",
      "KeyboardInterrupt\n",
      "  File \"/home/patrick/anaconda3/envs/DL/lib/python3.7/multiprocessing/synchronize.py\", line 95, in __enter__\n",
      "    return self._semlock.__enter__()\n",
      "KeyboardInterrupt\n",
      "  File \"/home/patrick/anaconda3/envs/DL/lib/python3.7/multiprocessing/connection.py\", line 407, in _recv_bytes\n",
      "    buf = self._recv(4)\n",
      "KeyboardInterrupt\n",
      "  File \"/home/patrick/anaconda3/envs/DL/lib/python3.7/multiprocessing/connection.py\", line 379, in _recv\n",
      "    chunk = read(handle, remaining)\n",
      "  File \"/home/patrick/anaconda3/envs/DL/lib/python3.7/multiprocessing/synchronize.py\", line 95, in __enter__\n",
      "    return self._semlock.__enter__()\n",
      "KeyboardInterrupt\n",
      "KeyboardInterrupt\n",
      "KeyboardInterrupt\n"
     ]
    },
    {
     "ename": "KeyboardInterrupt",
     "evalue": "",
     "output_type": "error",
     "traceback": [
      "\u001b[0;31m---------------------------------------------------------------------------\u001b[0m",
      "\u001b[0;31mKeyboardInterrupt\u001b[0m                         Traceback (most recent call last)",
      "\u001b[0;32m<ipython-input-14-baf9009673a0>\u001b[0m in \u001b[0;36m<module>\u001b[0;34m\u001b[0m\n\u001b[1;32m     39\u001b[0m \u001b[0;34m\u001b[0m\u001b[0m\n\u001b[1;32m     40\u001b[0m     \u001b[0mprint\u001b[0m\u001b[0;34m(\u001b[0m\u001b[0;34mf\"Norm: {norm} | Seguraaaaa\"\u001b[0m\u001b[0;34m)\u001b[0m\u001b[0;34m\u001b[0m\u001b[0;34m\u001b[0m\u001b[0m\n\u001b[0;32m---> 41\u001b[0;31m     \u001b[0mconcurrent\u001b[0m\u001b[0;34m.\u001b[0m\u001b[0mfutures\u001b[0m\u001b[0;34m.\u001b[0m\u001b[0mwait\u001b[0m\u001b[0;34m(\u001b[0m\u001b[0mresults\u001b[0m\u001b[0;34m)\u001b[0m\u001b[0;34m\u001b[0m\u001b[0;34m\u001b[0m\u001b[0m\n\u001b[0m\u001b[1;32m     42\u001b[0m     \u001b[0mprint\u001b[0m\u001b[0;34m(\u001b[0m\u001b[0;34mf\"Norm: {norm} | Solta!\"\u001b[0m\u001b[0;34m)\u001b[0m\u001b[0;34m\u001b[0m\u001b[0;34m\u001b[0m\u001b[0m\n\u001b[1;32m     43\u001b[0m \u001b[0mnp\u001b[0m\u001b[0;34m.\u001b[0m\u001b[0msave\u001b[0m\u001b[0;34m(\u001b[0m\u001b[0;34mf\"Images_{norm}.npy\"\u001b[0m\u001b[0;34m,\u001b[0m \u001b[0mimages_normalized\u001b[0m\u001b[0;34m)\u001b[0m\u001b[0;34m\u001b[0m\u001b[0;34m\u001b[0m\u001b[0m\n",
      "\u001b[0;32m~/anaconda3/envs/DL/lib/python3.7/concurrent/futures/_base.py\u001b[0m in \u001b[0;36mwait\u001b[0;34m(fs, timeout, return_when)\u001b[0m\n\u001b[1;32m    299\u001b[0m         \u001b[0mwaiter\u001b[0m \u001b[0;34m=\u001b[0m \u001b[0m_create_and_install_waiters\u001b[0m\u001b[0;34m(\u001b[0m\u001b[0mfs\u001b[0m\u001b[0;34m,\u001b[0m \u001b[0mreturn_when\u001b[0m\u001b[0;34m)\u001b[0m\u001b[0;34m\u001b[0m\u001b[0;34m\u001b[0m\u001b[0m\n\u001b[1;32m    300\u001b[0m \u001b[0;34m\u001b[0m\u001b[0m\n\u001b[0;32m--> 301\u001b[0;31m     \u001b[0mwaiter\u001b[0m\u001b[0;34m.\u001b[0m\u001b[0mevent\u001b[0m\u001b[0;34m.\u001b[0m\u001b[0mwait\u001b[0m\u001b[0;34m(\u001b[0m\u001b[0mtimeout\u001b[0m\u001b[0;34m)\u001b[0m\u001b[0;34m\u001b[0m\u001b[0;34m\u001b[0m\u001b[0m\n\u001b[0m\u001b[1;32m    302\u001b[0m     \u001b[0;32mfor\u001b[0m \u001b[0mf\u001b[0m \u001b[0;32min\u001b[0m \u001b[0mfs\u001b[0m\u001b[0;34m:\u001b[0m\u001b[0;34m\u001b[0m\u001b[0;34m\u001b[0m\u001b[0m\n\u001b[1;32m    303\u001b[0m         \u001b[0;32mwith\u001b[0m \u001b[0mf\u001b[0m\u001b[0;34m.\u001b[0m\u001b[0m_condition\u001b[0m\u001b[0;34m:\u001b[0m\u001b[0;34m\u001b[0m\u001b[0;34m\u001b[0m\u001b[0m\n",
      "\u001b[0;32m~/anaconda3/envs/DL/lib/python3.7/threading.py\u001b[0m in \u001b[0;36mwait\u001b[0;34m(self, timeout)\u001b[0m\n\u001b[1;32m    550\u001b[0m             \u001b[0msignaled\u001b[0m \u001b[0;34m=\u001b[0m \u001b[0mself\u001b[0m\u001b[0;34m.\u001b[0m\u001b[0m_flag\u001b[0m\u001b[0;34m\u001b[0m\u001b[0;34m\u001b[0m\u001b[0m\n\u001b[1;32m    551\u001b[0m             \u001b[0;32mif\u001b[0m \u001b[0;32mnot\u001b[0m \u001b[0msignaled\u001b[0m\u001b[0;34m:\u001b[0m\u001b[0;34m\u001b[0m\u001b[0;34m\u001b[0m\u001b[0m\n\u001b[0;32m--> 552\u001b[0;31m                 \u001b[0msignaled\u001b[0m \u001b[0;34m=\u001b[0m \u001b[0mself\u001b[0m\u001b[0;34m.\u001b[0m\u001b[0m_cond\u001b[0m\u001b[0;34m.\u001b[0m\u001b[0mwait\u001b[0m\u001b[0;34m(\u001b[0m\u001b[0mtimeout\u001b[0m\u001b[0;34m)\u001b[0m\u001b[0;34m\u001b[0m\u001b[0;34m\u001b[0m\u001b[0m\n\u001b[0m\u001b[1;32m    553\u001b[0m             \u001b[0;32mreturn\u001b[0m \u001b[0msignaled\u001b[0m\u001b[0;34m\u001b[0m\u001b[0;34m\u001b[0m\u001b[0m\n\u001b[1;32m    554\u001b[0m \u001b[0;34m\u001b[0m\u001b[0m\n",
      "\u001b[0;32m~/anaconda3/envs/DL/lib/python3.7/threading.py\u001b[0m in \u001b[0;36mwait\u001b[0;34m(self, timeout)\u001b[0m\n\u001b[1;32m    294\u001b[0m         \u001b[0;32mtry\u001b[0m\u001b[0;34m:\u001b[0m    \u001b[0;31m# restore state no matter what (e.g., KeyboardInterrupt)\u001b[0m\u001b[0;34m\u001b[0m\u001b[0;34m\u001b[0m\u001b[0m\n\u001b[1;32m    295\u001b[0m             \u001b[0;32mif\u001b[0m \u001b[0mtimeout\u001b[0m \u001b[0;32mis\u001b[0m \u001b[0;32mNone\u001b[0m\u001b[0;34m:\u001b[0m\u001b[0;34m\u001b[0m\u001b[0;34m\u001b[0m\u001b[0m\n\u001b[0;32m--> 296\u001b[0;31m                 \u001b[0mwaiter\u001b[0m\u001b[0;34m.\u001b[0m\u001b[0macquire\u001b[0m\u001b[0;34m(\u001b[0m\u001b[0;34m)\u001b[0m\u001b[0;34m\u001b[0m\u001b[0;34m\u001b[0m\u001b[0m\n\u001b[0m\u001b[1;32m    297\u001b[0m                 \u001b[0mgotit\u001b[0m \u001b[0;34m=\u001b[0m \u001b[0;32mTrue\u001b[0m\u001b[0;34m\u001b[0m\u001b[0;34m\u001b[0m\u001b[0m\n\u001b[1;32m    298\u001b[0m             \u001b[0;32melse\u001b[0m\u001b[0;34m:\u001b[0m\u001b[0;34m\u001b[0m\u001b[0;34m\u001b[0m\u001b[0m\n",
      "\u001b[0;31mKeyboardInterrupt\u001b[0m: "
     ]
    }
   ],
   "source": [
    "import concurrent.futures\n",
    "import time\n",
    "import multiprocessing\n",
    "\n",
    "start = time.perf_counter()\n",
    "\n",
    "channels = ['F378','F395','F410','F430','F515','F660','F861','G','I','R','U','Z']\n",
    "percentile = [99.9, 99.9, 99.9, 99.9, 99.8, 99.6, 99.7, 99.6, 99.5, 99.5, 99.9, 99.6]\n",
    "\n",
    "def normalize(idx, norm):\n",
    "    print(idx)\n",
    "    ch = channels[idx]\n",
    "    percent = percentile[idx]\n",
    "    #print(f\"Antes do percentle {idx}\")\n",
    "    ch_max = np.percentile(images[:,:,:,idx], percent)\n",
    "    #print(f\"Meio do percentile {idx}\")\n",
    "    ch_min = -(np.percentile(-images[:,:,:,idx], 99.9))\n",
    "    #Switch images_test for images[:,:,:, idx]\n",
    "    #print(f\"Antes do Clip {idx}\")\n",
    "    images[:,:,:, idx] = np.clip(images[:,:,:,idx], ch_min, ch_max)\n",
    "    print(f\"Cheguei aqui irmaozinho {idx}\")\n",
    "    if norm == \"MinMaxStandard\":\n",
    "        images_normalized[:,:,:, idx] = MinMaxScaler(images[:,:,:, idx], [0,1])\n",
    "    elif norm == \"MinMaxRange\":\n",
    "        images_normalized[:,:,:, idx] = MinMaxScaler(images[:,:,:, idx], [-1,1])\n",
    "    elif norm == \"Standard\":\n",
    "        images_normalized[:,:,:, idx] = StandardScaler(images[:,:,:, idx])\n",
    "\n",
    "    print(f\"Idx: {idx} Norm: {norm:>14} Channel: {ch:>4} Max: {images_normalized[:,:,:, idx].max():.3f} Min: {images_normalized[:,:,:, idx].min():.3f} Mean: {images_normalized[:,:,:, idx].mean():.3f} Std: {images_normalized[:,:,:, idx].std():.3f}\")\n",
    "    \n",
    "    return f\"Finished {idx}\"\n",
    "    \n",
    "#for norm in [\"MinMaxStandard\", \"MinMaxRange\", \"Standard\"]:\n",
    "images_normalized = np.zeros(images.shape, dtype=\"float32\")\n",
    "norm = \"MinMaxStandard\"\n",
    "\n",
    "with concurrent.futures.ProcessPoolExecutor(multiprocessing.cpu_count()) as executor:\n",
    "    results = [executor.submit(normalize, idx, norm) for idx in range(12)]\n",
    "\n",
    "    print(f\"Norm: {norm} | Seguraaaaa\")\n",
    "    concurrent.futures.wait(results)\n",
    "    print(f\"Norm: {norm} | Solta!\")\n",
    "np.save(f\"Images_{norm}.npy\", images_normalized)\n",
    "print(\"Salved\")\n",
    "\n",
    "finish = time.perf_counter()\n",
    "\n",
    "print(f'Finished in {round(finish-start, 2)} second(s)')"
   ]
  },
  {
   "cell_type": "code",
   "execution_count": null,
   "metadata": {},
   "outputs": [],
   "source": []
  }
 ],
 "metadata": {
  "kernelspec": {
   "display_name": "Python 3",
   "language": "python",
   "name": "python3"
  },
  "language_info": {
   "codemirror_mode": {
    "name": "ipython",
    "version": 3
   },
   "file_extension": ".py",
   "mimetype": "text/x-python",
   "name": "python",
   "nbconvert_exporter": "python",
   "pygments_lexer": "ipython3",
   "version": "3.7.5"
  }
 },
 "nbformat": 4,
 "nbformat_minor": 4
}