{
 "cells": [
  {
   "cell_type": "markdown",
   "metadata": {},
   "source": [
    "## Lens Challenge 2.0 - Classification"
   ]
  },
  {
   "cell_type": "markdown",
   "metadata": {},
   "source": [
    "### Define config"
   ]
  },
  {
   "cell_type": "code",
   "execution_count": 2,
   "metadata": {},
   "outputs": [],
   "source": [
    "\"\"\"\n",
    "Deep Bayesian strong lensing code\n",
    "\n",
    "@author(s): Manuel Blanco Valentín (mbvalentin@cbpf.br)\n",
    "            Clécio de Bom (clecio@debom.com.br)\n",
    "            Brian Nord\n",
    "            Jason Poh\n",
    "            Luciana Dias\n",
    "\"\"\"\n",
    "\n",
    "\"\"\" Basic Modules \"\"\"\n",
    "\n",
    "###### Possible error\n",
    "###### error OOM - reduction batch size and after limits gpus\n",
    "import tensorflow as tf\n",
    "import os\n",
    "\n",
    "data_folder = '/home/dados229/luciana/BayesianProjects/BayesianChallenge2/deepbayesianstronglensing-master/data/DataChallenge2'\n",
    "\n",
    "os.environ[\"CUDA_VISIBLE_DEVICES\"] = '3'\n",
    "\"\"\"\n",
    "config = tf.ConfigProto()\n",
    "# config.gpu_options.per_process_gpu_memory_fraction = 0.9\n",
    "config.gpu_options.allow_growth = True\n",
    "session = tf.Session(config=config)\n",
    "os.environ[\"CUDA_DEVICE_ORDER\"] = \"PCI_BUS_ID\"\n",
    "os.environ[\"CUDA_VISIBLE_DEVICES\"] = '3'\n",
    "\"\"\"\n",
    "import numpy as np\n",
    "\n",
    "\"\"\" Execution time measuring \"\"\"\n",
    "from time import time\n",
    "import matplotlib\n",
    "from utils._time import ElapsedTime\n",
    "\n",
    "\"\"\" keras backend to clear session \"\"\"\n",
    "import keras.backend as K\n",
    "\n",
    "\"\"\" Ignore warnings (for log visualization sake)\"\"\"\n",
    "import warnings\n",
    "warnings.filterwarnings(\"ignore\")\n",
    "\n",
    "\"\"\" Load fits data \"\"\"\n",
    "#from astropy.io import fits\n",
    "\n",
    "\"\"\" utility for progressbar \"\"\"\n",
    "from keras.utils import Progbar\n",
    "\n",
    "\"\"\" Matplotlib \"\"\"\n",
    "import matplotlib.pyplot as plt\n",
    "%matplotlib inline"
   ]
  },
  {
   "cell_type": "code",
   "execution_count": 3,
   "metadata": {},
   "outputs": [
    {
     "name": "stdout",
     "output_type": "stream",
     "text": [
      "(99991, 200, 200, 1)\n",
      "(99991, 66, 66, 3)\n"
     ]
    }
   ],
   "source": [
    "data_dir = '/home/dados4t/DataChallenge2/'\n",
    "\n",
    "images_vis = np.load(os.path.join(data_dir,'images_vis_normalized.npy'))\n",
    "images_hjy = np.load(os.path.join(data_dir,'images_hjy_normalized.npy'))\n",
    "#images_hjy = images_hjy[:,:,:,2:]\n",
    "files = np.load(os.path.join(data_dir,'test_catalog.npy'))\n",
    "print(images_vis.shape)\n",
    "print(images_hjy.shape)\n"
   ]
  },
  {
   "cell_type": "code",
   "execution_count": 4,
   "metadata": {},
   "outputs": [
    {
     "data": {
      "image/png": "[encoded data removed]",
      "text/plain": [
       "<Figure size 432x288 with 1 Axes>"
      ]
     },
     "metadata": {
      "needs_background": "light"
     },
     "output_type": "display_data"
    }
   ],
   "source": [
    "vis_p_max = 4.623768815742446e-12\n",
    "vis_p_min = -1.5977605523354033e-12\n",
    "\n",
    "plt.hist(images_vis.ravel(), bins=np.linspace(vis_p_min, vis_p_max, 100))\n",
    "plt.xlim(vis_p_min, vis_p_max)\n",
    "\n",
    "plt.show()"
   ]
  },
  {
   "cell_type": "code",
   "execution_count": 6,
   "metadata": {},
   "outputs": [
    {
     "data": {
      "image/png": "[encoded data removed]",
      "text/plain": [
       "<Figure size 432x288 with 1 Axes>"
      ]
     },
     "metadata": {
      "needs_background": "light"
     },
     "output_type": "display_data"
    }
   ],
   "source": [
    "y_p_max = 1.0428637467474342e-10\n",
    "y_p_min = -2.6795723626071855e-11\n",
    "\n",
    "plt.hist(images_hjy[:,:,:,2:].ravel(), bins=np.linspace(y_p_min, y_p_max, 100))\n",
    "plt.xlim(y_p_min, y_p_max)\n",
    "plt.show()"
   ]
  },
  {
   "cell_type": "code",
   "execution_count": 4,
   "metadata": {},
   "outputs": [
    {
     "data": {
      "image/png": "[encoded data removed]",
      "text/plain": [
       "<Figure size 432x288 with 1 Axes>"
      ]
     },
     "metadata": {
      "needs_background": "light"
     },
     "output_type": "display_data"
    }
   ],
   "source": [
    "h_p_max = 1.9406750095818282e-10\n",
    "h_p_min = -2.4760928082207426e-11\n",
    "\n",
    "plt.hist(images_hjy[:,:,:,0].ravel(), bins=np.linspace(h_p_min, h_p_max, 100))\n",
    "plt.xlim(h_p_min, h_p_max)\n",
    "plt.show()"
   ]
  },
  {
   "cell_type": "code",
   "execution_count": 5,
   "metadata": {},
   "outputs": [
    {
     "data": {
      "image/png": "[encoded data removed]",
      "text/plain": [
       "<Figure size 432x288 with 1 Axes>"
      ]
     },
     "metadata": {
      "needs_background": "light"
     },
     "output_type": "display_data"
    }
   ],
   "source": [
    "j_p_max = 1.4528640790434366e-10\n",
    "j_p_min = -2.973456141031121e-11\n",
    "\n",
    "plt.hist(images_hjy[:,:,:,1].ravel(), bins=np.linspace(j_p_min, j_p_max, 100))\n",
    "plt.xlim(j_p_min, j_p_max)\n",
    "plt.show()"
   ]
  },
  {
   "cell_type": "code",
   "execution_count": 9,
   "metadata": {},
   "outputs": [
    {
     "name": "stdout",
     "output_type": "stream",
     "text": [
      "0.0 1.0\n"
     ]
    }
   ],
   "source": [
    "#VIS\n",
    "\n",
    "images_vis = np.clip(images_vis, vis_p_min, vis_p_max)\n",
    "images_vis = (images_vis - vis_p_min)/(vis_p_max - vis_p_min)\n",
    "print(images_vis.min(), images_vis.max())\n",
    "\n",
    "np.save(os.path.join(data_dir,'test_images_vis_normalized.npy'), images_vis)"
   ]
  },
  {
   "cell_type": "code",
   "execution_count": 7,
   "metadata": {},
   "outputs": [
    {
     "name": "stdout",
     "output_type": "stream",
     "text": [
      "0.0 1.0\n"
     ]
    }
   ],
   "source": [
    "#Y\n",
    "\n",
    "images_hjy[:,:,:,2] = np.clip(images_hjy[:,:,:,2], y_p_min, y_p_max)\n",
    "images_hjy[:,:,:,2] = (images_hjy[:,:,:,2] - y_p_min)/(y_p_max - y_p_min)\n",
    "print(images_hjy[:,:,:,2].min(), images_hjy[:,:,:,2].max())\n",
    "\n",
    "#np.save(os.path.join(data_dir,'test_images_y_normalized.npy'), images_hjy)"
   ]
  },
  {
   "cell_type": "code",
   "execution_count": 8,
   "metadata": {},
   "outputs": [
    {
     "name": "stdout",
     "output_type": "stream",
     "text": [
      "0.0 1.0\n"
     ]
    }
   ],
   "source": [
    "#H\n",
    "\n",
    "images_hjy[:,:,:,0] = np.clip(images_hjy[:,:,:,0], h_p_min, h_p_max)\n",
    "images_hjy[:,:,:,0] = (images_hjy[:,:,:,0] - h_p_min)/(h_p_max - h_p_min)\n",
    "print(images_hjy[:,:,:,0].min(), images_hjy[:,:,:,0].max())"
   ]
  },
  {
   "cell_type": "code",
   "execution_count": 9,
   "metadata": {},
   "outputs": [
    {
     "name": "stdout",
     "output_type": "stream",
     "text": [
      "0.0 1.0\n"
     ]
    }
   ],
   "source": [
    "#J\n",
    "\n",
    "images_hjy[:,:,:,1] = np.clip(images_hjy[:,:,:,1], j_p_min, j_p_max)\n",
    "images_hjy[:,:,:,1] = (images_hjy[:,:,:,1] - j_p_min)/(j_p_max - j_p_min)\n",
    "print(images_hjy[:,:,:,1].min(), images_hjy[:,:,:,1].max())"
   ]
  },
  {
   "cell_type": "code",
   "execution_count": 10,
   "metadata": {},
   "outputs": [],
   "source": [
    "np.save(os.path.join(data_dir,'test_images_hjy_normalized.npy'), images_hjy)"
   ]
  },
  {
   "cell_type": "code",
   "execution_count": 5,
   "metadata": {},
   "outputs": [
    {
     "data": {
      "text/plain": [
       "(99991, 192, 192, 1)"
      ]
     },
     "execution_count": 5,
     "metadata": {},
     "output_type": "execute_result"
    }
   ],
   "source": [
    "import cv2\n",
    "\n",
    "resized = []\n",
    "for i in range(images_vis.shape[0]):\n",
    "    tmp = cv2.resize(images_vis[i], (192,192))\n",
    "    tmp = tmp.reshape(192,192,1)\n",
    "    \n",
    "    \n",
    "    resized.append(tmp)\n",
    "    \n",
    "    \"\"\"\n",
    "    if i == 0:\n",
    "        resized = tmp\n",
    "    else:\n",
    "        resized = np.concatenate([resized,tmp], axis=0)\n",
    "    \"\"\"\n",
    "resized = np.stack(resized, axis=0)\n",
    "resized.shape"
   ]
  },
  {
   "cell_type": "code",
   "execution_count": 6,
   "metadata": {},
   "outputs": [],
   "source": [
    "np.save(os.path.join(data_dir,'images_vis_normalized_resized.npy'), resized)"
   ]
  },
  {
   "cell_type": "code",
   "execution_count": 8,
   "metadata": {},
   "outputs": [
    {
     "data": {
      "text/plain": [
       "(99991, 64, 64, 1)"
      ]
     },
     "execution_count": 8,
     "metadata": {},
     "output_type": "execute_result"
    }
   ],
   "source": [
    "import cv2\n",
    "\n",
    "resized = []\n",
    "for i in range(images_hjy.shape[0]):\n",
    "    tmp = cv2.resize(images_hjy[i,:,:,2:], (64,64))\n",
    "    tmp = tmp.reshape(64,64,1)\n",
    "    \n",
    "    \n",
    "    resized.append(tmp)\n",
    "    \n",
    "    \"\"\"\n",
    "    if i == 0:\n",
    "        resized = tmp\n",
    "    else:\n",
    "        resized = np.concatenate([resized,tmp], axis=0)\n",
    "    \"\"\"\n",
    "resized = np.stack(resized, axis=0)\n",
    "resized.shape"
   ]
  },
  {
   "cell_type": "code",
   "execution_count": 9,
   "metadata": {},
   "outputs": [],
   "source": [
    "np.save(os.path.join(data_dir,'images_y_normalized_resized.npy'), resized)"
   ]
  },
  {
   "cell_type": "code",
   "execution_count": null,
   "metadata": {},
   "outputs": [],
   "source": []
  }
 ],
 "metadata": {
  "kernelspec": {
   "display_name": "Python 3",
   "language": "python",
   "name": "python3"
  },
  "language_info": {
   "codemirror_mode": {
    "name": "ipython",
    "version": 3
   },
   "file_extension": ".py",
   "mimetype": "text/x-python",
   "name": "python",
   "nbconvert_exporter": "python",
   "pygments_lexer": "ipython3",
   "version": "3.7.5"
  }
 },
 "nbformat": 4,
 "nbformat_minor": 4
}
